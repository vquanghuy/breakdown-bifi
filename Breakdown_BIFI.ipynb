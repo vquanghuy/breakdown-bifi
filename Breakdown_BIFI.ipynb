{
 "cells": [
  {
   "cell_type": "markdown",
   "metadata": {
    "id": "qMh9r11F0BD9"
   },
   "source": [
    "# Prepare Environment"
   ]
  },
  {
   "cell_type": "markdown",
   "metadata": {
    "id": "fxK14PmC9Yzz"
   },
   "source": [
    "We should check if we're on the Colab and do additional setup\n",
    "- Install `fairseq`, `tqdm`"
   ]
  },
  {
   "cell_type": "code",
   "metadata": {
    "colab": {
     "base_uri": "https://localhost:8080/"
    },
    "collapsed": true,
    "id": "ngsjzyFax4KL",
    "outputId": "c51fe7f1-6d57-4234-93d4-5f24237a98f2",
    "ExecuteTime": {
     "end_time": "2024-07-20T03:30:41.025391Z",
     "start_time": "2024-07-20T03:30:41.020342Z"
    }
   },
   "source": [
    "from IPython.core import getipython\n",
    "\n",
    "is_colab = 'google.colab' in str(getipython.get_ipython())\n",
    "\n",
    "if is_colab:\n",
    "    !git clone https://github.com/vquanghuy/breakdown-bifi\n",
    "    !cp -r breakdown-bifi/utils .\n",
    "    !pip install fairseq editdistance\n",
    "else:\n",
    "  print(\"Notebook is not on Colab. Fairseq installation not attempted.\")\n"
   ],
   "outputs": [
    {
     "name": "stdout",
     "output_type": "stream",
     "text": [
      "Notebook is not on Colab. Fairseq installation not attempted.\n"
     ]
    }
   ],
   "execution_count": 4
  },
  {
   "cell_type": "code",
   "metadata": {
    "colab": {
     "base_uri": "https://localhost:8080/"
    },
    "id": "2rAuWy859T45",
    "outputId": "12d863f7-6d1b-48dc-b58d-5d9d3e59c903",
    "ExecuteTime": {
     "end_time": "2024-07-20T14:26:04.139208Z",
     "start_time": "2024-07-20T14:26:04.104005Z"
    }
   },
   "source": [
    "%load_ext autoreload\n",
    "\n",
    "# Check PyTorch version\n",
    "import torch\n",
    "print('Torch', torch.__version__)\n",
    "\n",
    "import fairseq\n",
    "print('fairseq', fairseq.__version__)\n",
    "\n",
    "import shlex\n",
    "import subprocess\n",
    "import sys\n",
    "import shutil\n",
    "import os\n",
    "import io\n",
    "import sys\n",
    "import json, os, re\n",
    "import token\n",
    "import numpy as np\n",
    "from collections import defaultdict, OrderedDict, Counter\n",
    "from copy import deepcopy\n",
    "import editdistance\n",
    "\n",
    "sys.path.insert(0, 'utils')  # Replace with the actual path"
   ],
   "outputs": [
    {
     "name": "stdout",
     "output_type": "stream",
     "text": [
      "The autoreload extension is already loaded. To reload it, use:\n",
      "  %reload_ext autoreload\n",
      "Torch 2.2.2\n",
      "fairseq 0.12.2\n"
     ]
    }
   ],
   "execution_count": 58
  },
  {
   "cell_type": "markdown",
   "metadata": {
    "id": "rNBdpnZp_bQt"
   },
   "source": [
    "# Data Preparation"
   ]
  },
  {
   "cell_type": "code",
   "metadata": {
    "id": "0q3s-dVP_L00",
    "ExecuteTime": {
     "end_time": "2024-07-20T14:26:10.673190Z",
     "start_time": "2024-07-20T14:26:10.646378Z"
    }
   },
   "source": [
    "DATA_DIR = 'drive/MyDrive/Dataset/bifi-dataset' if is_colab else 'data'\n",
    "os.environ[\"DATA_DIR\"] = DATA_DIR"
   ],
   "outputs": [],
   "execution_count": 59
  },
  {
   "cell_type": "markdown",
   "metadata": {
    "id": "38ITJmmMBrcQ"
   },
   "source": [
    "# Supported functions"
   ]
  },
  {
   "metadata": {
    "ExecuteTime": {
     "end_time": "2024-07-21T02:47:09.505141Z",
     "start_time": "2024-07-21T02:47:09.463432Z"
    }
   },
   "cell_type": "code",
   "source": [
    "%autoreload 2\n",
    "\n",
    "from tqdm import tqdm\n",
    "from copy import deepcopy\n",
    "from collections import defaultdict, OrderedDict\n",
    "import hashlib\n",
    "\n",
    "from utils.code_error_checker import check_paren_error, check_ast_error\n",
    "from utils.code_utils import preprocess_unk, code_toks_to_code_string, get_diff_metric, tokenize_python_code\n",
    "from utils.fairseq_utils import parse_fairseq_preds, fairseq_preprocess, fairseq_generate, fairseq_train"
   ],
   "outputs": [],
   "execution_count": 74
  },
  {
   "metadata": {
    "id": "A9M8VHuFMJa8"
   },
   "cell_type": "markdown",
   "source": [
    "## eval_fixer"
   ]
  },
  {
   "metadata": {
    "colab": {
     "base_uri": "https://localhost:8080/",
     "height": 356
    },
    "id": "pUFo3AZtMJa8",
    "outputId": "1b10af7f-75dd-401f-9d52-ba95272aab74",
    "ExecuteTime": {
     "end_time": "2024-07-18T08:36:45.504074Z",
     "start_time": "2024-07-18T08:36:45.479923Z"
    }
   },
   "cell_type": "code",
   "source": [
    "def eval_one_pred_obj(pred_obj):\n",
    "    # Deal with UNK\n",
    "    _, unk_dict = preprocess_unk(pred_obj['code_toks_raw'])\n",
    "    anonymize_dict = pred_obj['anonymize_dict']\n",
    "    if anonymize_dict is None:\n",
    "        anonymize_dict = {}\n",
    "    anonymize_dict['<unk>'] = unk_dict\n",
    "    anonymize_dict['<STRING>'] = []\n",
    "    anonymize_dict['<COMMENT>'] = []\n",
    "    #\n",
    "    src = pred_obj['src'] #this is tok_format i.e. ' '.join(code_toks)\n",
    "    src_code  = code_toks_to_code_string(src, anonymize_dict) #this is string_format\n",
    "    ret_obj = {'progid': pred_obj['progid'],\n",
    "               'orig_err_obj': pred_obj['orig_err_obj'],\n",
    "               'anonymize_dict': pred_obj['anonymize_dict']\n",
    "               }\n",
    "    ret_obj['src']  = {'tok_format': src, 'string_format': src_code}\n",
    "    #Get string_format from predicted code toks\n",
    "    ret_obj['pred'] = []\n",
    "    for pred in pred_obj['pred']:\n",
    "        pred_code = code_toks_to_code_string(pred, anonymize_dict) #this is string_format\n",
    "        orig_err_obj = pred_obj['orig_err_obj']\n",
    "        if orig_err_obj['msg'] == 'unbalanced (){}[]':\n",
    "            #NOTE: `pred` is tok_format i.e. ' '.join(code_toks)\n",
    "            res = check_paren_error(pred.split())\n",
    "        else:\n",
    "            res = check_ast_error(pred_code)\n",
    "        diff_metric = get_diff_metric(src, pred)\n",
    "        ret_obj['pred'].append({'tok_format': pred,\n",
    "                                'string_format': pred_code,\n",
    "                                'err_obj': res,\n",
    "                                'diff_metric': diff_metric})\n",
    "    return ret_obj\n",
    "\n",
    "def eval_one_split(pred_dir_prefix, split, pred_fname, n_workers=80):\n",
    "    pred_dir   = f'{pred_dir_prefix}{split}'\n",
    "    pred_path = Path(f'{pred_dir}/{pred_fname}')\n",
    "    preds = parse_fairseq_preds(str(pred_path))\n",
    "    #load progids\n",
    "    data_dir = DATA_DIR\n",
    "    progids = [l.strip() for l in open(f'{data_dir}/orig_bad_code/orig.{split}.id')]\n",
    "    assert len(preds) == len(progids)\n",
    "    #load original err_obj\n",
    "    bads = json.load(open(f'{data_dir}/orig_bad_code/orig.bad.json'))\n",
    "    for j in range(len(preds)):\n",
    "        progid = progids[j]\n",
    "        preds[j]['progid'] = progid\n",
    "        preds[j]['orig_err_obj'] = bads[progid]['err_obj']\n",
    "        code_toks_raw = bads[progid]['code_toks_joined'].split()\n",
    "        anonymize_dict = bads[progid]['anonymize_dict']\n",
    "        if 'window_span' in bads[progid]:\n",
    "            ws = bads[progid]['window_span']\n",
    "            code_toks_raw = code_toks_raw[ws[0]:ws[1]]\n",
    "            anonymize_dict = None\n",
    "        preds[j]['code_toks_raw'] = code_toks_raw\n",
    "        preds[j]['anonymize_dict'] = anonymize_dict\n",
    "    #\n",
    "    print ('len(preds)', len(preds))\n",
    "    # with Pool(n_workers) as p:\n",
    "    #     res = list(tqdm(p.imap(eval_one_pred_obj, preds), total=len(preds)))\n",
    "    res = list(tqdm(map(eval_one_pred_obj, preds)))  # or list(tqdm([eval_one_pred_obj(pred) for pred in preds]))\n",
    "\n",
    "    '''\n",
    "      res: list of {'progid': , 'orig_err_obj': , 'anonymize_dict': ,\n",
    "                    'src': {'tok_format': , 'string_format': },\n",
    "                    'pred': {'tok_format':, 'string_format':, 'err_obj': }\n",
    "                    }\n",
    "    '''\n",
    "    with open(f'{pred_path.parent}/{pred_path.stem}.evaluated.json', 'w') as f:\n",
    "        json.dump(res, f, indent=2)\n",
    "\n",
    "def get_test_result(pred_dir_prefix, pred_fname):\n",
    "    #\n",
    "    def collate_eval():\n",
    "        success  = []; denom = 0\n",
    "        success_by_group = defaultdict(list); denom_by_group = defaultdict(int)\n",
    "        agg_obj = {}\n",
    "        for split in {3,4}: #heldout test set\n",
    "            print ('split', split)\n",
    "            pred_dir   = Path(f'{pred_dir_prefix}{split}')\n",
    "            pred_path  = pred_dir/pred_fname\n",
    "            pred_eval_path = f'{pred_path.parent}/{pred_path.stem}.evaluated.json'\n",
    "            eval_objs = json.load(open(pred_eval_path))\n",
    "            for eval_obj in eval_objs:\n",
    "                progid = eval_obj['progid']\n",
    "                orig_err_type = eval_obj['orig_err_obj']['msg']\n",
    "                if 'indent' in orig_err_type:\n",
    "                    orig_err_type = 'indentation error'\n",
    "                denom += 1\n",
    "                denom_by_group[orig_err_type] += 1\n",
    "                for k, pred_obj in enumerate(eval_obj['pred']):\n",
    "                    pred_err_obj = pred_obj['err_obj']\n",
    "                    diff_metric  = pred_obj['diff_metric']\n",
    "                    if (pred_err_obj == 0) and (0 < diff_metric <= 4):\n",
    "                        name = '{:02d}-{}-{:03d}'.format(split, progid, k)\n",
    "                        success.append(name)\n",
    "                        success_by_group[orig_err_type].append(name)\n",
    "        return success, denom, success_by_group, denom_by_group\n",
    "    #\n",
    "    def print_stats(name_list, _denom):\n",
    "        top1 = set()\n",
    "        for name in name_list:\n",
    "            split, progid, k = name.split('-')\n",
    "            if int(split) in {3,4}: #test set\n",
    "                if int(k)==0:\n",
    "                    top1.add(f'{split}-{progid}')\n",
    "        acc = len(top1)/float(_denom)*100\n",
    "        print ('   acc: {} ({:.1f}%) | denom {}'.format(len(top1), acc, _denom))\n",
    "        return acc\n",
    "    #\n",
    "    success, denom, success_by_group, denom_by_group = collate_eval()\n",
    "    acc_dict = {}\n",
    "    print ('Total'); acc = print_stats(success, denom); acc_dict['total'] = acc\n",
    "    print ('-'*50)\n",
    "    for err_type in success_by_group:\n",
    "        print (f'{err_type.capitalize()}')\n",
    "        acc = print_stats(success_by_group[err_type], denom_by_group[err_type])\n",
    "        acc_dict[err_type] = acc\n",
    "    json.dump(acc_dict, open(Path(pred_dir_prefix).parent/'stats.json', 'w'), indent=2)"
   ],
   "outputs": [],
   "execution_count": 5
  },
  {
   "metadata": {},
   "cell_type": "markdown",
   "source": [
    "## generate_paired_data_from_fixer\n",
    "Using *critic* to verify"
   ]
  },
  {
   "metadata": {},
   "cell_type": "code",
   "outputs": [],
   "execution_count": null,
   "source": [
    "#BIFI version - uses critic to verify\n",
    "def generate_paired_data_from_fixer_preds_for_BIFI(pred_dir_prefix, pred_fname, out_dir):\n",
    "    #Get new paired data\n",
    "    train_data = {'good': [], 'bad': [], 'id': []}\n",
    "    for split in {0,1,2}: #available for training\n",
    "        print ('split', split)\n",
    "        pred_dir   = Path(f'{pred_dir_prefix}{split}')\n",
    "        pred_path  = pred_dir/pred_fname\n",
    "        pred_eval_path = f'{pred_path.parent}/{pred_path.stem}.evaluated.json'\n",
    "        eval_objs = json.load(open(pred_eval_path))\n",
    "        for eval_obj in eval_objs:\n",
    "            progid = eval_obj['progid']\n",
    "            for k, pred_obj in enumerate(eval_obj['pred']):\n",
    "                pred_err_obj = pred_obj['err_obj']\n",
    "                diff_metric  = pred_obj['diff_metric']\n",
    "                if (pred_err_obj == 0) and (0 < diff_metric <= 4):\n",
    "                    name = '{:02d}-{}-{:03d}'.format(split, progid, k)\n",
    "                    src  = eval_obj['src']['tok_format'].strip()\n",
    "                    pred = pred_obj['tok_format'].strip()\n",
    "                    train_data['id'  ].append(name)\n",
    "                    train_data['good'].append(pred)\n",
    "                    train_data['bad' ].append(src)\n",
    "    assert len(train_data['good']) == len(train_data['bad']) == len(train_data['id'])\n",
    "    new_data_size = len(train_data['id'])\n",
    "    print ('#new_data', new_data_size)\n",
    "    os.system(f'mkdir -p {out_dir}_pure')\n",
    "    with open(f'{out_dir}_pure/train.id', 'w') as fid, \\\n",
    "            open(f'{out_dir}_pure/train.good', 'w') as fgood, \\\n",
    "            open(f'{out_dir}_pure/train.bad', 'w') as fbad:\n",
    "        for _idx in tqdm(range(new_data_size)):\n",
    "            fid.write(train_data['id'][_idx] +'\\n')\n",
    "            fgood.write(train_data['good'][_idx] +'\\n')\n",
    "            fbad.write(train_data['bad'][_idx] +'\\n')\n",
    "    idxs_newdata = list(range(new_data_size))\n",
    "    #\n",
    "    #Merge with round0 paired data\n",
    "    print ('loading round0 data')\n",
    "    train_data_0 = {'good': [], 'bad': [], 'id': []}\n",
    "    train_data_0['bad']  = [line.strip() for line in tqdm(open('data/round0/data_paired/train.bad'))]\n",
    "    train_data_0['good'] = [line.strip() for line in tqdm(open('data/round0/data_paired/train.good'))]\n",
    "    train_data_0['id']   = [line.strip() for line in tqdm(open('data/round0/data_paired/train.id'))]\n",
    "    idxs_0 = list(range(len(train_data_0['id'])))\n",
    "    seed = (111 + int(hashlib.md5(str(out_dir).encode()).hexdigest(), 16)) % (2**31)\n",
    "    print ('seed', seed)\n",
    "    np.random.seed(seed)\n",
    "    np.random.shuffle(idxs_0); np.random.shuffle(idxs_0)\n",
    "    total_size = 30_000_000\n",
    "    _0_data_repeats  = (total_size//3)//len(idxs_0) +1\n",
    "    new_data_repeats = (total_size*2//3)//new_data_size +1\n",
    "    idxs_0 = (idxs_0 * _0_data_repeats)[:total_size//3]\n",
    "    idxs_newdata = idxs_newdata * new_data_repeats\n",
    "    print ('combining all data')\n",
    "    idxs = [f'0_{i}' for i in idxs_0] + [f'new_{i}' for i in idxs_newdata]\n",
    "    np.random.shuffle(idxs); np.random.shuffle(idxs)\n",
    "    #\n",
    "    #Write out data\n",
    "    os.system(f'mkdir -p {out_dir}')\n",
    "    print ('writing out data')\n",
    "    with open(f'{out_dir}/train.id', 'w') as fid, \\\n",
    "            open(f'{out_dir}/train.good', 'w') as fgood, \\\n",
    "            open(f'{out_dir}/train.bad', 'w') as fbad:\n",
    "        for idx in tqdm(idxs):\n",
    "            _prefix, _idx = idx.split('_')\n",
    "            _idx = int(_idx)\n",
    "            if _prefix == '0':\n",
    "                fid.write(train_data_0['id'][_idx] +'\\n')\n",
    "                fgood.write(train_data_0['good'][_idx] +'\\n')\n",
    "                fbad.write(train_data_0['bad'][_idx] +'\\n')\n",
    "            else:\n",
    "                fid.write(train_data['id'][_idx] +'\\n')\n",
    "                fgood.write(train_data['good'][_idx] +'\\n')\n",
    "                fbad.write(train_data['bad'][_idx] +'\\n')\n",
    "    os.system('cp {} {}'.format('data/round0/data_paired/dev.bad', out_dir))\n",
    "    os.system('cp {} {}'.format('data/round0/data_paired/dev.good', out_dir))\n",
    "    os.system('cp {} {}'.format('data/round0/data_paired/dev.id', out_dir))\n",
    "    print ('done')"
   ]
  },
  {
   "cell_type": "markdown",
   "metadata": {
    "id": "rPrCdDrwB14d"
   },
   "source": [
    "# Round 0\n",
    "\n",
    "This round is mainly focus on training and evaluate `fixer`"
   ]
  },
  {
   "metadata": {
    "id": "rCf3QIDlMJa8"
   },
   "cell_type": "markdown",
   "source": [
    "## Round variables"
   ]
  },
  {
   "cell_type": "code",
   "metadata": {
    "id": "SWzdVzcktvpx",
    "outputId": "3bc8721b-c3d5-4fa5-8f7b-e4d59321d0e8",
    "ExecuteTime": {
     "end_time": "2024-07-20T14:26:16.555454Z",
     "start_time": "2024-07-20T14:26:16.530999Z"
    }
   },
   "source": [
    "from pathlib import Path\n",
    "\n",
    "data_dir = Path(DATA_DIR)\n",
    "round_dir = data_dir/'round_0'\n",
    "\n",
    "# Preprocess and train\n",
    "data_paired_dir = round_dir/'small_data_paired' # Force to use smaller dataset - initial is data_paired\n",
    "fairseq_dir = data_paired_dir/'fairseq_preprocess'\n",
    "\n",
    "# Run fixer\n",
    "model_dir  = round_dir/'model-fixer'\n",
    "model_path = model_dir/'checkpoint_best.pt'\n",
    "destdir_root = round_dir/'orig_bad'\n",
    "\n",
    "n_splits = 5\n",
    "\n",
    "# Evaluate\n",
    "pred_dir_root = round_dir/'orig_bad'\n",
    "pred_dir_prefix = str(pred_dir_root/'fairseq_preprocess__orig_bad.')\n",
    "pred_fname  = 'model-fixer.pred.txt'"
   ],
   "outputs": [],
   "execution_count": 61
  },
  {
   "metadata": {
    "id": "GXMJ3QbVMJa9"
   },
   "cell_type": "markdown",
   "source": [
    "## Cleanup data\n",
    "\n",
    "Use with caution"
   ]
  },
  {
   "metadata": {
    "id": "ZaLbDBMbMJa9"
   },
   "cell_type": "markdown",
   "source": [
    "### Remove train's preprocessed data"
   ]
  },
  {
   "metadata": {
    "id": "XWmd5E8TMJa9",
    "ExecuteTime": {
     "end_time": "2024-07-20T14:26:35.061331Z",
     "start_time": "2024-07-20T14:26:35.038296Z"
    }
   },
   "cell_type": "code",
   "source": [
    "shutil.rmtree(str(fairseq_dir))"
   ],
   "outputs": [],
   "execution_count": 62
  },
  {
   "metadata": {
    "id": "wg1fOgQ8MJa9"
   },
   "cell_type": "markdown",
   "source": [
    "### Remove fixer preprocessed data\n",
    "\n",
    "It's used while running the fixer, it is required to have preprocessed data from bad code"
   ]
  },
  {
   "metadata": {
    "id": "mHTyuJ9AMJa9",
    "ExecuteTime": {
     "end_time": "2024-07-13T09:00:19.411082Z",
     "start_time": "2024-07-13T09:00:19.270268Z"
    }
   },
   "cell_type": "code",
   "source": [
    "shutil.rmtree(str(destdir_root))"
   ],
   "outputs": [],
   "execution_count": 9
  },
  {
   "metadata": {
    "id": "eQrt1ihwMJa9"
   },
   "cell_type": "markdown",
   "source": [
    "## Reduce data\n",
    "\n",
    "Since the input data is huge, this step is involved to reduce the size of the input, only keep **1 million record for training**"
   ]
  },
  {
   "cell_type": "code",
   "metadata": {
    "id": "U1F1hxikSXG7",
    "ExecuteTime": {
     "end_time": "2024-07-11T15:11:26.075341Z",
     "start_time": "2024-07-11T15:11:23.003372Z"
    }
   },
   "source": [
    "# Take 1m lines as sample\n",
    "from itertools import islice\n",
    "\n",
    "original_data_paired_dir = round_dir/'data_paired'\n",
    "train_sliced_lines = 1000000\n",
    "dev_sliced_lines = train_sliced_lines / 100\n",
    "\n",
    "data_paired_dir.mkdir(exist_ok=True)\n",
    "\n",
    "# Prepare train.good and train.bad\n",
    "with open(str(original_data_paired_dir/'train.good'), 'r', encoding='utf-8') as infile, \\\n",
    "    open(str(data_paired_dir/'train.good'), 'w', encoding='utf-8') as outfile:\n",
    "    for line in islice(infile, train_sliced_lines):\n",
    "        outfile.write(line)\n",
    "\n",
    "with open(str(original_data_paired_dir/'train.bad'), 'r', encoding=\"utf-8\") as infile, \\\n",
    "    open(str(data_paired_dir/'train.bad'), 'w', encoding='utf-8') as outfile:\n",
    "    for line in islice(infile, train_sliced_lines):\n",
    "        outfile.write(line)\n",
    "\n",
    "# Prepare dev.good and dev.bad\n",
    "with open(str(original_data_paired_dir/'dev.good'), 'r', encoding=\"utf-8\") as infile, \\\n",
    "    open(str(data_paired_dir/'dev.good'), 'w', encoding='utf-8') as outfile:\n",
    "    for line in islice(infile, train_sliced_lines):\n",
    "        outfile.write(line)\n",
    "\n",
    "with open(str(original_data_paired_dir/'dev.bad'), 'r', encoding=\"utf-8\") as infile, \\\n",
    "    open(str(data_paired_dir/'dev.bad'), 'w', encoding='utf-8') as outfile:\n",
    "    for line in islice(infile, train_sliced_lines):\n",
    "        outfile.write(line)\n"
   ],
   "outputs": [],
   "execution_count": null
  },
  {
   "cell_type": "markdown",
   "metadata": {
    "id": "pkKlR8UWGSJR"
   },
   "source": [
    "## Preprocess data for training"
   ]
  },
  {
   "cell_type": "code",
   "metadata": {
    "colab": {
     "base_uri": "https://localhost:8080/"
    },
    "id": "qZs7SU74DRw6",
    "outputId": "a94d70a9-fa90-4194-aea5-9e02f3707442",
    "ExecuteTime": {
     "end_time": "2024-07-20T14:26:42.103031Z",
     "start_time": "2024-07-20T14:26:42.007366Z"
    }
   },
   "source": [
    "# Perform preprocess data\n",
    "fairseq_preprocess(src='bad', tgt='good', workers=20,\n",
    "                      destdir  = str(data_paired_dir/'fairseq_preprocess'),\n",
    "                      trainpref= str(data_paired_dir/'train'),\n",
    "                      validpref= str(data_paired_dir/'dev'),\n",
    "                      srcdict  = str(data_dir/'token_vocab.txt') )"
   ],
   "outputs": [
    {
     "ename": "FileNotFoundError",
     "evalue": "[Errno 2] No such file or directory: 'fairseq-preprocess --source-lang bad --destdir data/round_0/small_data_paired/fairseq_preprocess             --joined-dictionary --workers 50 --target-lang good --trainpref data/round_0/small_data_paired/train --validpref data/round_0/small_data_paired/dev --srcdict data/token_vocab.txt --workers 20 '",
     "output_type": "error",
     "traceback": [
      "\u001B[0;31m---------------------------------------------------------------------------\u001B[0m",
      "\u001B[0;31mFileNotFoundError\u001B[0m                         Traceback (most recent call last)",
      "Cell \u001B[0;32mIn[63], line 2\u001B[0m\n\u001B[1;32m      1\u001B[0m \u001B[38;5;66;03m# Perform preprocess data\u001B[39;00m\n\u001B[0;32m----> 2\u001B[0m \u001B[43mfairseq_preprocess\u001B[49m\u001B[43m(\u001B[49m\u001B[43msrc\u001B[49m\u001B[38;5;241;43m=\u001B[39;49m\u001B[38;5;124;43m'\u001B[39;49m\u001B[38;5;124;43mbad\u001B[39;49m\u001B[38;5;124;43m'\u001B[39;49m\u001B[43m,\u001B[49m\u001B[43m \u001B[49m\u001B[43mtgt\u001B[49m\u001B[38;5;241;43m=\u001B[39;49m\u001B[38;5;124;43m'\u001B[39;49m\u001B[38;5;124;43mgood\u001B[39;49m\u001B[38;5;124;43m'\u001B[39;49m\u001B[43m,\u001B[49m\u001B[43m \u001B[49m\u001B[43mworkers\u001B[49m\u001B[38;5;241;43m=\u001B[39;49m\u001B[38;5;241;43m20\u001B[39;49m\u001B[43m,\u001B[49m\n\u001B[1;32m      3\u001B[0m \u001B[43m                      \u001B[49m\u001B[43mdestdir\u001B[49m\u001B[43m  \u001B[49m\u001B[38;5;241;43m=\u001B[39;49m\u001B[43m \u001B[49m\u001B[38;5;28;43mstr\u001B[39;49m\u001B[43m(\u001B[49m\u001B[43mdata_paired_dir\u001B[49m\u001B[38;5;241;43m/\u001B[39;49m\u001B[38;5;124;43m'\u001B[39;49m\u001B[38;5;124;43mfairseq_preprocess\u001B[39;49m\u001B[38;5;124;43m'\u001B[39;49m\u001B[43m)\u001B[49m\u001B[43m,\u001B[49m\n\u001B[1;32m      4\u001B[0m \u001B[43m                      \u001B[49m\u001B[43mtrainpref\u001B[49m\u001B[38;5;241;43m=\u001B[39;49m\u001B[43m \u001B[49m\u001B[38;5;28;43mstr\u001B[39;49m\u001B[43m(\u001B[49m\u001B[43mdata_paired_dir\u001B[49m\u001B[38;5;241;43m/\u001B[39;49m\u001B[38;5;124;43m'\u001B[39;49m\u001B[38;5;124;43mtrain\u001B[39;49m\u001B[38;5;124;43m'\u001B[39;49m\u001B[43m)\u001B[49m\u001B[43m,\u001B[49m\n\u001B[1;32m      5\u001B[0m \u001B[43m                      \u001B[49m\u001B[43mvalidpref\u001B[49m\u001B[38;5;241;43m=\u001B[39;49m\u001B[43m \u001B[49m\u001B[38;5;28;43mstr\u001B[39;49m\u001B[43m(\u001B[49m\u001B[43mdata_paired_dir\u001B[49m\u001B[38;5;241;43m/\u001B[39;49m\u001B[38;5;124;43m'\u001B[39;49m\u001B[38;5;124;43mdev\u001B[39;49m\u001B[38;5;124;43m'\u001B[39;49m\u001B[43m)\u001B[49m\u001B[43m,\u001B[49m\n\u001B[1;32m      6\u001B[0m \u001B[43m                      \u001B[49m\u001B[43msrcdict\u001B[49m\u001B[43m  \u001B[49m\u001B[38;5;241;43m=\u001B[39;49m\u001B[43m \u001B[49m\u001B[38;5;28;43mstr\u001B[39;49m\u001B[43m(\u001B[49m\u001B[43mdata_dir\u001B[49m\u001B[38;5;241;43m/\u001B[39;49m\u001B[38;5;124;43m'\u001B[39;49m\u001B[38;5;124;43mtoken_vocab.txt\u001B[39;49m\u001B[38;5;124;43m'\u001B[39;49m\u001B[43m)\u001B[49m\u001B[43m \u001B[49m\u001B[43m)\u001B[49m\n",
      "File \u001B[0;32m~/Documents/Repositories/GitHub/breakdown-bifi/utils/fairseq_utils.py:24\u001B[0m, in \u001B[0;36mfairseq_preprocess\u001B[0;34m(src, tgt, destdir, trainpref, validpref, testpref, srcdict, **kwargs)\u001B[0m\n\u001B[1;32m     22\u001B[0m     cmd \u001B[38;5;241m+\u001B[39m\u001B[38;5;241m=\u001B[39m \u001B[38;5;124mf\u001B[39m\u001B[38;5;124m'\u001B[39m\u001B[38;5;124m--srcdict \u001B[39m\u001B[38;5;132;01m{\u001B[39;00msrcdict\u001B[38;5;132;01m}\u001B[39;00m\u001B[38;5;124m \u001B[39m\u001B[38;5;124m'\u001B[39m\n\u001B[1;32m     23\u001B[0m cmd \u001B[38;5;241m+\u001B[39m\u001B[38;5;241m=\u001B[39m additional_cmds\n\u001B[0;32m---> 24\u001B[0m \u001B[43msubprocess\u001B[49m\u001B[38;5;241;43m.\u001B[39;49m\u001B[43mrun\u001B[49m\u001B[43m(\u001B[49m\u001B[43mcmd\u001B[49m\u001B[43m)\u001B[49m\n",
      "File \u001B[0;32m~/miniconda3/envs/torch/lib/python3.10/subprocess.py:503\u001B[0m, in \u001B[0;36mrun\u001B[0;34m(input, capture_output, timeout, check, *popenargs, **kwargs)\u001B[0m\n\u001B[1;32m    500\u001B[0m     kwargs[\u001B[38;5;124m'\u001B[39m\u001B[38;5;124mstdout\u001B[39m\u001B[38;5;124m'\u001B[39m] \u001B[38;5;241m=\u001B[39m PIPE\n\u001B[1;32m    501\u001B[0m     kwargs[\u001B[38;5;124m'\u001B[39m\u001B[38;5;124mstderr\u001B[39m\u001B[38;5;124m'\u001B[39m] \u001B[38;5;241m=\u001B[39m PIPE\n\u001B[0;32m--> 503\u001B[0m \u001B[38;5;28;01mwith\u001B[39;00m \u001B[43mPopen\u001B[49m\u001B[43m(\u001B[49m\u001B[38;5;241;43m*\u001B[39;49m\u001B[43mpopenargs\u001B[49m\u001B[43m,\u001B[49m\u001B[43m \u001B[49m\u001B[38;5;241;43m*\u001B[39;49m\u001B[38;5;241;43m*\u001B[39;49m\u001B[43mkwargs\u001B[49m\u001B[43m)\u001B[49m \u001B[38;5;28;01mas\u001B[39;00m process:\n\u001B[1;32m    504\u001B[0m     \u001B[38;5;28;01mtry\u001B[39;00m:\n\u001B[1;32m    505\u001B[0m         stdout, stderr \u001B[38;5;241m=\u001B[39m process\u001B[38;5;241m.\u001B[39mcommunicate(\u001B[38;5;28minput\u001B[39m, timeout\u001B[38;5;241m=\u001B[39mtimeout)\n",
      "File \u001B[0;32m~/miniconda3/envs/torch/lib/python3.10/subprocess.py:971\u001B[0m, in \u001B[0;36mPopen.__init__\u001B[0;34m(self, args, bufsize, executable, stdin, stdout, stderr, preexec_fn, close_fds, shell, cwd, env, universal_newlines, startupinfo, creationflags, restore_signals, start_new_session, pass_fds, user, group, extra_groups, encoding, errors, text, umask, pipesize)\u001B[0m\n\u001B[1;32m    967\u001B[0m         \u001B[38;5;28;01mif\u001B[39;00m \u001B[38;5;28mself\u001B[39m\u001B[38;5;241m.\u001B[39mtext_mode:\n\u001B[1;32m    968\u001B[0m             \u001B[38;5;28mself\u001B[39m\u001B[38;5;241m.\u001B[39mstderr \u001B[38;5;241m=\u001B[39m io\u001B[38;5;241m.\u001B[39mTextIOWrapper(\u001B[38;5;28mself\u001B[39m\u001B[38;5;241m.\u001B[39mstderr,\n\u001B[1;32m    969\u001B[0m                     encoding\u001B[38;5;241m=\u001B[39mencoding, errors\u001B[38;5;241m=\u001B[39merrors)\n\u001B[0;32m--> 971\u001B[0m     \u001B[38;5;28;43mself\u001B[39;49m\u001B[38;5;241;43m.\u001B[39;49m\u001B[43m_execute_child\u001B[49m\u001B[43m(\u001B[49m\u001B[43margs\u001B[49m\u001B[43m,\u001B[49m\u001B[43m \u001B[49m\u001B[43mexecutable\u001B[49m\u001B[43m,\u001B[49m\u001B[43m \u001B[49m\u001B[43mpreexec_fn\u001B[49m\u001B[43m,\u001B[49m\u001B[43m \u001B[49m\u001B[43mclose_fds\u001B[49m\u001B[43m,\u001B[49m\n\u001B[1;32m    972\u001B[0m \u001B[43m                        \u001B[49m\u001B[43mpass_fds\u001B[49m\u001B[43m,\u001B[49m\u001B[43m \u001B[49m\u001B[43mcwd\u001B[49m\u001B[43m,\u001B[49m\u001B[43m \u001B[49m\u001B[43menv\u001B[49m\u001B[43m,\u001B[49m\n\u001B[1;32m    973\u001B[0m \u001B[43m                        \u001B[49m\u001B[43mstartupinfo\u001B[49m\u001B[43m,\u001B[49m\u001B[43m \u001B[49m\u001B[43mcreationflags\u001B[49m\u001B[43m,\u001B[49m\u001B[43m \u001B[49m\u001B[43mshell\u001B[49m\u001B[43m,\u001B[49m\n\u001B[1;32m    974\u001B[0m \u001B[43m                        \u001B[49m\u001B[43mp2cread\u001B[49m\u001B[43m,\u001B[49m\u001B[43m \u001B[49m\u001B[43mp2cwrite\u001B[49m\u001B[43m,\u001B[49m\n\u001B[1;32m    975\u001B[0m \u001B[43m                        \u001B[49m\u001B[43mc2pread\u001B[49m\u001B[43m,\u001B[49m\u001B[43m \u001B[49m\u001B[43mc2pwrite\u001B[49m\u001B[43m,\u001B[49m\n\u001B[1;32m    976\u001B[0m \u001B[43m                        \u001B[49m\u001B[43merrread\u001B[49m\u001B[43m,\u001B[49m\u001B[43m \u001B[49m\u001B[43merrwrite\u001B[49m\u001B[43m,\u001B[49m\n\u001B[1;32m    977\u001B[0m \u001B[43m                        \u001B[49m\u001B[43mrestore_signals\u001B[49m\u001B[43m,\u001B[49m\n\u001B[1;32m    978\u001B[0m \u001B[43m                        \u001B[49m\u001B[43mgid\u001B[49m\u001B[43m,\u001B[49m\u001B[43m \u001B[49m\u001B[43mgids\u001B[49m\u001B[43m,\u001B[49m\u001B[43m \u001B[49m\u001B[43muid\u001B[49m\u001B[43m,\u001B[49m\u001B[43m \u001B[49m\u001B[43mumask\u001B[49m\u001B[43m,\u001B[49m\n\u001B[1;32m    979\u001B[0m \u001B[43m                        \u001B[49m\u001B[43mstart_new_session\u001B[49m\u001B[43m)\u001B[49m\n\u001B[1;32m    980\u001B[0m \u001B[38;5;28;01mexcept\u001B[39;00m:\n\u001B[1;32m    981\u001B[0m     \u001B[38;5;66;03m# Cleanup if the child failed starting.\u001B[39;00m\n\u001B[1;32m    982\u001B[0m     \u001B[38;5;28;01mfor\u001B[39;00m f \u001B[38;5;129;01min\u001B[39;00m \u001B[38;5;28mfilter\u001B[39m(\u001B[38;5;28;01mNone\u001B[39;00m, (\u001B[38;5;28mself\u001B[39m\u001B[38;5;241m.\u001B[39mstdin, \u001B[38;5;28mself\u001B[39m\u001B[38;5;241m.\u001B[39mstdout, \u001B[38;5;28mself\u001B[39m\u001B[38;5;241m.\u001B[39mstderr)):\n",
      "File \u001B[0;32m~/miniconda3/envs/torch/lib/python3.10/subprocess.py:1863\u001B[0m, in \u001B[0;36mPopen._execute_child\u001B[0;34m(self, args, executable, preexec_fn, close_fds, pass_fds, cwd, env, startupinfo, creationflags, shell, p2cread, p2cwrite, c2pread, c2pwrite, errread, errwrite, restore_signals, gid, gids, uid, umask, start_new_session)\u001B[0m\n\u001B[1;32m   1861\u001B[0m     \u001B[38;5;28;01mif\u001B[39;00m errno_num \u001B[38;5;241m!=\u001B[39m \u001B[38;5;241m0\u001B[39m:\n\u001B[1;32m   1862\u001B[0m         err_msg \u001B[38;5;241m=\u001B[39m os\u001B[38;5;241m.\u001B[39mstrerror(errno_num)\n\u001B[0;32m-> 1863\u001B[0m     \u001B[38;5;28;01mraise\u001B[39;00m child_exception_type(errno_num, err_msg, err_filename)\n\u001B[1;32m   1864\u001B[0m \u001B[38;5;28;01mraise\u001B[39;00m child_exception_type(err_msg)\n",
      "\u001B[0;31mFileNotFoundError\u001B[0m: [Errno 2] No such file or directory: 'fairseq-preprocess --source-lang bad --destdir data/round_0/small_data_paired/fairseq_preprocess             --joined-dictionary --workers 50 --target-lang good --trainpref data/round_0/small_data_paired/train --validpref data/round_0/small_data_paired/dev --srcdict data/token_vocab.txt --workers 20 '"
     ]
    }
   ],
   "execution_count": 63
  },
  {
   "cell_type": "markdown",
   "metadata": {
    "id": "E9pY-SAZGVpP"
   },
   "source": [
    "## Train fixer"
   ]
  },
  {
   "cell_type": "code",
   "metadata": {
    "colab": {
     "background_save": true,
     "base_uri": "https://localhost:8080/"
    },
    "id": "3nlaNGVmD_V6",
    "outputId": "9a03a0a0-c907-4b9f-97a2-8451ddcb1265",
    "ExecuteTime": {
     "end_time": "2024-07-11T15:54:09.477285Z",
     "start_time": "2024-07-11T15:54:09.456322Z"
    }
   },
   "source": [
    "# Train\n",
    "gpu_id = 0\n",
    "max_epoch = 2\n",
    "\n",
    "save_dir = round_dir/'model-fixer'\n",
    "save_dir.mkdir(exist_ok=True)\n",
    "\n",
    "fairseq_train(gpu_id, str(fairseq_dir), str(save_dir), str(save_dir/'train.log.txt'),\n",
    "                    src='bad', tgt='good',\n",
    "                    criterion='label_smoothed_cross_entropy', label_smoothing=0.1,\n",
    "                    lr=1e-3, warmup_init_lr=1e-4, memory_efficient_fp16=True,\n",
    "                    encoder_layers=4, decoder_layers=4, encoder_embed_dim=256, decoder_embed_dim=256,\n",
    "                    encoder_ffn_embed_dim=1024, decoder_ffn_embed_dim=1024,\n",
    "                    max_tokens=13500, update_freq=2,\n",
    "                    max_epoch=max_epoch, save_interval_updates=10000, num_workers=4,\n",
    "                )"
   ],
   "outputs": [
    {
     "name": "stdout",
     "output_type": "stream",
     "text": [
      "CUDA_VISIBLE_DEVICES=0  fairseq-train                 data\\round_0\\small_data_paired\\fairseq_preprocess                --source-lang bad --target-lang good                --arch transformer --share-all-embeddings                --encoder-layers 4 --decoder-layers 4                --encoder-embed-dim 256 --decoder-embed-dim 256                --encoder-ffn-embed-dim 1024 --decoder-ffn-embed-dim 1024                --encoder-attention-heads 8 --decoder-attention-heads 8                --encoder-normalize-before --decoder-normalize-before                --dropout 0.4 --attention-dropout 0.2 --relu-dropout 0.2                --weight-decay 0.0001                --criterion label_smoothed_cross_entropy                --optimizer adam --adam-betas '(0.9, 0.98)' --clip-norm 1                --lr-scheduler inverse_sqrt --warmup-updates 400 --warmup-init-lr 0.0001                --lr 0.001                --max-tokens 13500                --update-freq 2                --max-epoch 2 --save-interval 1 --save-dir data\\round_0\\model-fixer --label-smoothing 0.1 --save-interval-updates 10000 --num-workers 4 --memory-efficient-fp16   2>&1 | tee -a data\\round_0\\model-fixer\\train.log.txt \n"
     ]
    }
   ],
   "execution_count": null
  },
  {
   "metadata": {
    "id": "IBOlSanEMJa-"
   },
   "cell_type": "markdown",
   "source": [
    "## Preprocess data for fixer"
   ]
  },
  {
   "metadata": {
    "id": "jNAjFOsaMJa-",
    "outputId": "17d05a9b-abdb-4b10-c6db-566a8009ba5d",
    "ExecuteTime": {
     "end_time": "2024-07-14T01:22:07.668923Z",
     "start_time": "2024-07-14T01:21:17.235435Z"
    }
   },
   "cell_type": "code",
   "source": [
    "# Preprocess input\n",
    "for split in range(n_splits):\n",
    "    destdir    = destdir_root/f'fairseq_preprocess__orig_bad.{split}'\n",
    "    if os.path.exists(str(destdir)):\n",
    "        continue\n",
    "    fairseq_preprocess(src='bad', tgt='good', workers=10,\n",
    "                       destdir  = str(destdir),\n",
    "                       testpref = str(data_dir/f'orig_bad_code/orig.{split}'),\n",
    "                       srcdict  = str(data_dir/'token_vocab.txt'),\n",
    "                       only_source=True )\n",
    "    shutil.copy(str(data_dir/'token_vocab.txt'), str(destdir/'dict.good.txt'))"
   ],
   "outputs": [],
   "execution_count": 16
  },
  {
   "metadata": {
    "id": "OALuxFlbMJa-"
   },
   "cell_type": "markdown",
   "source": [
    "## Run fixer"
   ]
  },
  {
   "metadata": {
    "id": "yP3A6T_uMJa-",
    "outputId": "f4d0089a-4879-4f8f-a939-f8075acce00d",
    "ExecuteTime": {
     "end_time": "2024-07-19T02:08:47.916482Z",
     "start_time": "2024-07-18T08:37:55.067092Z"
    }
   },
   "cell_type": "code",
   "source": [
    "for split in range(n_splits):\n",
    "    destdir    = destdir_root/f'fairseq_preprocess__orig_bad.{split}'\n",
    "    pred_path  = destdir/'model-fixer.pred.txt'\n",
    "    fairseq_generate(str(destdir), str(model_path), str(pred_path),\n",
    "                         src='bad', tgt='good', gen_subset='test',\n",
    "                         beam=10, nbest=10, max_len_a=1, max_len_b=50, max_tokens=7000)"
   ],
   "outputs": [
    {
     "name": "stderr",
     "output_type": "stream",
     "text": [
      "2024-07-18 15:37:56 | INFO | fairseq.tasks.text_to_speech | Please install tensorboardX: pip install tensorboardX\n",
      "2024-07-18 15:37:57 | INFO | fairseq_cli.generate | {'_name': None, 'common': {'_name': None, 'no_progress_bar': False, 'log_interval': 100, 'log_format': None, 'log_file': None, 'aim_repo': None, 'aim_run_hash': None, 'tensorboard_logdir': None, 'wandb_project': None, 'azureml_logging': False, 'seed': 1, 'cpu': False, 'tpu': False, 'bf16': False, 'memory_efficient_bf16': False, 'fp16': False, 'memory_efficient_fp16': False, 'fp16_no_flatten_grads': False, 'fp16_init_scale': 128, 'fp16_scale_window': None, 'fp16_scale_tolerance': 0.0, 'on_cpu_convert_precision': False, 'min_loss_scale': 0.0001, 'threshold_loss_scale': None, 'amp': False, 'amp_batch_retries': 2, 'amp_init_scale': 128, 'amp_scale_window': None, 'user_dir': None, 'empty_cache_freq': 0, 'all_gather_list_size': 16384, 'model_parallel_size': 1, 'quantization_config_path': None, 'profile': False, 'reset_logging': False, 'suppress_crashes': False, 'use_plasma_view': False, 'plasma_path': '/tmp/plasma'}, 'common_eval': {'_name': None, 'path': 'data/round_0/model-fixer/checkpoint_best.pt', 'post_process': None, 'quiet': False, 'model_overrides': '{}', 'results_path': None}, 'distributed_training': {'_name': None, 'distributed_world_size': 1, 'distributed_num_procs': 1, 'distributed_rank': 0, 'distributed_backend': 'nccl', 'distributed_init_method': None, 'distributed_port': -1, 'device_id': 0, 'distributed_no_spawn': False, 'ddp_backend': 'pytorch_ddp', 'ddp_comm_hook': 'none', 'bucket_cap_mb': 25, 'fix_batches_to_gpus': False, 'find_unused_parameters': False, 'gradient_as_bucket_view': False, 'fast_stat_sync': False, 'heartbeat_timeout': -1, 'broadcast_buffers': False, 'slowmo_momentum': None, 'slowmo_base_algorithm': 'localsgd', 'localsgd_frequency': 3, 'nprocs_per_node': 1, 'pipeline_model_parallel': False, 'pipeline_balance': None, 'pipeline_devices': None, 'pipeline_chunks': 0, 'pipeline_encoder_balance': None, 'pipeline_encoder_devices': None, 'pipeline_decoder_balance': None, 'pipeline_decoder_devices': None, 'pipeline_checkpoint': 'never', 'zero_sharding': 'none', 'fp16': False, 'memory_efficient_fp16': False, 'tpu': False, 'no_reshard_after_forward': False, 'fp32_reduce_scatter': False, 'cpu_offload': False, 'use_sharded_state': False, 'not_fsdp_flatten_parameters': False}, 'dataset': {'_name': None, 'num_workers': 1, 'skip_invalid_size_inputs_valid_test': False, 'max_tokens': 7000, 'batch_size': None, 'required_batch_size_multiple': 8, 'required_seq_len_multiple': 1, 'dataset_impl': None, 'data_buffer_size': 10, 'train_subset': 'train', 'valid_subset': 'valid', 'combine_valid_subsets': None, 'ignore_unused_valid_subsets': False, 'validate_interval': 1, 'validate_interval_updates': 0, 'validate_after_updates': 0, 'fixed_validation_seed': None, 'disable_validation': False, 'max_tokens_valid': 7000, 'batch_size_valid': None, 'max_valid_steps': None, 'curriculum': 0, 'gen_subset': 'test', 'num_shards': 1, 'shard_id': 0, 'grouped_shuffling': False, 'update_epoch_batch_itr': False, 'update_ordered_indices_seed': False}, 'optimization': {'_name': None, 'max_epoch': 0, 'max_update': 0, 'stop_time_hours': 0.0, 'clip_norm': 0.0, 'sentence_avg': False, 'update_freq': [1], 'lr': [0.25], 'stop_min_lr': -1.0, 'use_bmuf': False, 'skip_remainder_batch': False}, 'checkpoint': {'_name': None, 'save_dir': 'checkpoints', 'restore_file': 'checkpoint_last.pt', 'continue_once': None, 'finetune_from_model': None, 'reset_dataloader': False, 'reset_lr_scheduler': False, 'reset_meters': False, 'reset_optimizer': False, 'optimizer_overrides': '{}', 'save_interval': 1, 'save_interval_updates': 0, 'keep_interval_updates': -1, 'keep_interval_updates_pattern': -1, 'keep_last_epochs': -1, 'keep_best_checkpoints': -1, 'no_save': False, 'no_epoch_checkpoints': False, 'no_last_checkpoints': False, 'no_save_optimizer_state': False, 'best_checkpoint_metric': 'loss', 'maximize_best_checkpoint_metric': False, 'patience': -1, 'checkpoint_suffix': '', 'checkpoint_shard_count': 1, 'load_checkpoint_on_all_dp_ranks': False, 'write_checkpoints_asynchronously': False, 'model_parallel_size': 1}, 'bmuf': {'_name': None, 'block_lr': 1.0, 'block_momentum': 0.875, 'global_sync_iter': 50, 'warmup_iterations': 500, 'use_nbm': False, 'average_sync': False, 'distributed_world_size': 1}, 'generation': {'_name': None, 'beam': 10, 'nbest': 10, 'max_len_a': 1.0, 'max_len_b': 50, 'min_len': 1, 'match_source_len': False, 'unnormalized': False, 'no_early_stop': False, 'no_beamable_mm': False, 'lenpen': 1.0, 'unkpen': 0.0, 'replace_unk': None, 'sacrebleu': False, 'score_reference': False, 'prefix_size': 0, 'no_repeat_ngram_size': 0, 'sampling': False, 'sampling_topk': -1, 'sampling_topp': -1.0, 'constraints': None, 'temperature': 1.0, 'diverse_beam_groups': -1, 'diverse_beam_strength': 0.5, 'diversity_rate': -1.0, 'print_alignment': None, 'print_step': False, 'lm_path': None, 'lm_weight': 0.0, 'iter_decode_eos_penalty': 0.0, 'iter_decode_max_iter': 10, 'iter_decode_force_max_iter': False, 'iter_decode_with_beam': 1, 'iter_decode_with_external_reranker': False, 'retain_iter_history': False, 'retain_dropout': False, 'retain_dropout_modules': None, 'decoding_format': None, 'no_seed_provided': False, 'eos_token': None}, 'eval_lm': {'_name': None, 'output_word_probs': False, 'output_word_stats': False, 'context_window': 0, 'softmax_batch': 9223372036854775807}, 'interactive': {'_name': None, 'buffer_size': 0, 'input': '-'}, 'model': {'_name': 'wav2vec2', 'extractor_mode': 'default', 'encoder_layers': 12, 'encoder_embed_dim': 768, 'encoder_ffn_embed_dim': 3072, 'encoder_attention_heads': 12, 'activation_fn': 'gelu', 'layer_type': 'transformer', 'dropout': 0.1, 'attention_dropout': 0.1, 'activation_dropout': 0.0, 'encoder_layerdrop': 0.0, 'dropout_input': 0.0, 'dropout_features': 0.0, 'final_dim': 0, 'layer_norm_first': False, 'conv_feature_layers': '[(512, 10, 5)] + [(512, 3, 2)] * 4 + [(512,2,2)] + [(512,2,2)]', 'conv_bias': False, 'logit_temp': 0.1, 'quantize_targets': False, 'quantize_input': False, 'same_quantizer': False, 'target_glu': False, 'feature_grad_mult': 1.0, 'quantizer_depth': 1, 'quantizer_factor': 3, 'latent_vars': 320, 'latent_groups': 2, 'latent_dim': 0, 'mask_length': 10, 'mask_prob': 0.65, 'mask_selection': 'static', 'mask_other': 0.0, 'no_mask_overlap': False, 'mask_min_space': 1, 'require_same_masks': True, 'mask_dropout': 0.0, 'mask_channel_length': 10, 'mask_channel_prob': 0.0, 'mask_channel_before': False, 'mask_channel_selection': 'static', 'mask_channel_other': 0.0, 'no_mask_channel_overlap': False, 'mask_channel_min_space': 1, 'num_negatives': 100, 'negatives_from_everywhere': False, 'cross_sample_negatives': 0, 'codebook_negatives': 0, 'conv_pos': 128, 'conv_pos_groups': 16, 'pos_conv_depth': 1, 'latent_temp': [2.0, 0.5, 0.999995], 'max_positions': 100000, 'checkpoint_activations': False, 'required_seq_len_multiple': 1, 'crop_seq_to_multiple': 1, 'depthwise_conv_kernel_size': 31, 'attn_type': '', 'pos_enc_type': 'abs', 'fp16': False}, 'task': {'_name': 'translation', 'data': 'data/round_0/orig_bad/fairseq_preprocess__orig_bad.0', 'source_lang': 'bad', 'target_lang': 'good', 'load_alignments': False, 'left_pad_source': True, 'left_pad_target': False, 'max_source_positions': 1024, 'max_target_positions': 1024, 'upsample_primary': -1, 'truncate_source': False, 'num_batch_buckets': 0, 'train_subset': 'train', 'dataset_impl': None, 'required_seq_len_multiple': 1, 'eval_bleu': False, 'eval_bleu_args': '{}', 'eval_bleu_detok': 'space', 'eval_bleu_detok_args': '{}', 'eval_tokenized_bleu': False, 'eval_bleu_remove_bpe': None, 'eval_bleu_print_samples': False}, 'criterion': {'_name': 'cross_entropy', 'sentence_avg': True}, 'optimizer': None, 'lr_scheduler': {'_name': 'fixed', 'force_anneal': None, 'lr_shrink': 0.1, 'warmup_updates': 0, 'lr': [0.25]}, 'scoring': {'_name': 'bleu', 'pad': 1, 'eos': 2, 'unk': 3}, 'bpe': None, 'tokenizer': None, 'ema': {'_name': None, 'store_ema': False, 'ema_decay': 0.9999, 'ema_start_update': 0, 'ema_seed_model': None, 'ema_update_freq': 1, 'ema_fp32': False}}\n",
      "2024-07-18 15:37:57 | INFO | fairseq.tasks.translation | [bad] dictionary: 10000 types\n",
      "2024-07-18 15:37:57 | INFO | fairseq.tasks.translation | [good] dictionary: 10000 types\n",
      "2024-07-18 15:37:57 | INFO | fairseq_cli.generate | loading model(s) from data/round_0/model-fixer/checkpoint_best.pt\n",
      "2024-07-18 15:37:57 | INFO | fairseq.data.data_utils | loaded 7,528 examples from: data/round_0/orig_bad/fairseq_preprocess__orig_bad.0/test.bad-good.bad\n",
      "2024-07-18 15:37:57 | INFO | fairseq.tasks.translation | data/round_0/orig_bad/fairseq_preprocess__orig_bad.0 test bad-good 7528 examples\n",
      "2024-07-18 15:37:58 | INFO | fairseq.tasks.text_to_speech | Please install tensorboardX: pip install tensorboardX\n",
      "2024-07-18 16:10:04 | INFO | fairseq_cli.generate | NOTE: hypothesis and token scores are output in base 2\n",
      "2024-07-18 16:10:04 | INFO | fairseq_cli.generate | Translated 7,528 sentences (553,296 tokens) in 1857.6s (4.05 sentences/s, 297.85 tokens/s)\n",
      "2024-07-18 16:10:06 | INFO | fairseq.tasks.text_to_speech | Please install tensorboardX: pip install tensorboardX\n",
      "/Users/vuquanghuy/miniconda3/envs/torch/lib/python3.10/multiprocessing/resource_tracker.py:224: UserWarning: resource_tracker: There appear to be 1 leaked semaphore objects to clean up at shutdown\n",
      "  warnings.warn('resource_tracker: There appear to be %d '\n",
      "2024-07-18 16:10:07 | INFO | fairseq_cli.generate | {'_name': None, 'common': {'_name': None, 'no_progress_bar': False, 'log_interval': 100, 'log_format': None, 'log_file': None, 'aim_repo': None, 'aim_run_hash': None, 'tensorboard_logdir': None, 'wandb_project': None, 'azureml_logging': False, 'seed': 1, 'cpu': False, 'tpu': False, 'bf16': False, 'memory_efficient_bf16': False, 'fp16': False, 'memory_efficient_fp16': False, 'fp16_no_flatten_grads': False, 'fp16_init_scale': 128, 'fp16_scale_window': None, 'fp16_scale_tolerance': 0.0, 'on_cpu_convert_precision': False, 'min_loss_scale': 0.0001, 'threshold_loss_scale': None, 'amp': False, 'amp_batch_retries': 2, 'amp_init_scale': 128, 'amp_scale_window': None, 'user_dir': None, 'empty_cache_freq': 0, 'all_gather_list_size': 16384, 'model_parallel_size': 1, 'quantization_config_path': None, 'profile': False, 'reset_logging': False, 'suppress_crashes': False, 'use_plasma_view': False, 'plasma_path': '/tmp/plasma'}, 'common_eval': {'_name': None, 'path': 'data/round_0/model-fixer/checkpoint_best.pt', 'post_process': None, 'quiet': False, 'model_overrides': '{}', 'results_path': None}, 'distributed_training': {'_name': None, 'distributed_world_size': 1, 'distributed_num_procs': 1, 'distributed_rank': 0, 'distributed_backend': 'nccl', 'distributed_init_method': None, 'distributed_port': -1, 'device_id': 0, 'distributed_no_spawn': False, 'ddp_backend': 'pytorch_ddp', 'ddp_comm_hook': 'none', 'bucket_cap_mb': 25, 'fix_batches_to_gpus': False, 'find_unused_parameters': False, 'gradient_as_bucket_view': False, 'fast_stat_sync': False, 'heartbeat_timeout': -1, 'broadcast_buffers': False, 'slowmo_momentum': None, 'slowmo_base_algorithm': 'localsgd', 'localsgd_frequency': 3, 'nprocs_per_node': 1, 'pipeline_model_parallel': False, 'pipeline_balance': None, 'pipeline_devices': None, 'pipeline_chunks': 0, 'pipeline_encoder_balance': None, 'pipeline_encoder_devices': None, 'pipeline_decoder_balance': None, 'pipeline_decoder_devices': None, 'pipeline_checkpoint': 'never', 'zero_sharding': 'none', 'fp16': False, 'memory_efficient_fp16': False, 'tpu': False, 'no_reshard_after_forward': False, 'fp32_reduce_scatter': False, 'cpu_offload': False, 'use_sharded_state': False, 'not_fsdp_flatten_parameters': False}, 'dataset': {'_name': None, 'num_workers': 1, 'skip_invalid_size_inputs_valid_test': False, 'max_tokens': 7000, 'batch_size': None, 'required_batch_size_multiple': 8, 'required_seq_len_multiple': 1, 'dataset_impl': None, 'data_buffer_size': 10, 'train_subset': 'train', 'valid_subset': 'valid', 'combine_valid_subsets': None, 'ignore_unused_valid_subsets': False, 'validate_interval': 1, 'validate_interval_updates': 0, 'validate_after_updates': 0, 'fixed_validation_seed': None, 'disable_validation': False, 'max_tokens_valid': 7000, 'batch_size_valid': None, 'max_valid_steps': None, 'curriculum': 0, 'gen_subset': 'test', 'num_shards': 1, 'shard_id': 0, 'grouped_shuffling': False, 'update_epoch_batch_itr': False, 'update_ordered_indices_seed': False}, 'optimization': {'_name': None, 'max_epoch': 0, 'max_update': 0, 'stop_time_hours': 0.0, 'clip_norm': 0.0, 'sentence_avg': False, 'update_freq': [1], 'lr': [0.25], 'stop_min_lr': -1.0, 'use_bmuf': False, 'skip_remainder_batch': False}, 'checkpoint': {'_name': None, 'save_dir': 'checkpoints', 'restore_file': 'checkpoint_last.pt', 'continue_once': None, 'finetune_from_model': None, 'reset_dataloader': False, 'reset_lr_scheduler': False, 'reset_meters': False, 'reset_optimizer': False, 'optimizer_overrides': '{}', 'save_interval': 1, 'save_interval_updates': 0, 'keep_interval_updates': -1, 'keep_interval_updates_pattern': -1, 'keep_last_epochs': -1, 'keep_best_checkpoints': -1, 'no_save': False, 'no_epoch_checkpoints': False, 'no_last_checkpoints': False, 'no_save_optimizer_state': False, 'best_checkpoint_metric': 'loss', 'maximize_best_checkpoint_metric': False, 'patience': -1, 'checkpoint_suffix': '', 'checkpoint_shard_count': 1, 'load_checkpoint_on_all_dp_ranks': False, 'write_checkpoints_asynchronously': False, 'model_parallel_size': 1}, 'bmuf': {'_name': None, 'block_lr': 1.0, 'block_momentum': 0.875, 'global_sync_iter': 50, 'warmup_iterations': 500, 'use_nbm': False, 'average_sync': False, 'distributed_world_size': 1}, 'generation': {'_name': None, 'beam': 10, 'nbest': 10, 'max_len_a': 1.0, 'max_len_b': 50, 'min_len': 1, 'match_source_len': False, 'unnormalized': False, 'no_early_stop': False, 'no_beamable_mm': False, 'lenpen': 1.0, 'unkpen': 0.0, 'replace_unk': None, 'sacrebleu': False, 'score_reference': False, 'prefix_size': 0, 'no_repeat_ngram_size': 0, 'sampling': False, 'sampling_topk': -1, 'sampling_topp': -1.0, 'constraints': None, 'temperature': 1.0, 'diverse_beam_groups': -1, 'diverse_beam_strength': 0.5, 'diversity_rate': -1.0, 'print_alignment': None, 'print_step': False, 'lm_path': None, 'lm_weight': 0.0, 'iter_decode_eos_penalty': 0.0, 'iter_decode_max_iter': 10, 'iter_decode_force_max_iter': False, 'iter_decode_with_beam': 1, 'iter_decode_with_external_reranker': False, 'retain_iter_history': False, 'retain_dropout': False, 'retain_dropout_modules': None, 'decoding_format': None, 'no_seed_provided': False, 'eos_token': None}, 'eval_lm': {'_name': None, 'output_word_probs': False, 'output_word_stats': False, 'context_window': 0, 'softmax_batch': 9223372036854775807}, 'interactive': {'_name': None, 'buffer_size': 0, 'input': '-'}, 'model': {'_name': 'wav2vec2', 'extractor_mode': 'default', 'encoder_layers': 12, 'encoder_embed_dim': 768, 'encoder_ffn_embed_dim': 3072, 'encoder_attention_heads': 12, 'activation_fn': 'gelu', 'layer_type': 'transformer', 'dropout': 0.1, 'attention_dropout': 0.1, 'activation_dropout': 0.0, 'encoder_layerdrop': 0.0, 'dropout_input': 0.0, 'dropout_features': 0.0, 'final_dim': 0, 'layer_norm_first': False, 'conv_feature_layers': '[(512, 10, 5)] + [(512, 3, 2)] * 4 + [(512,2,2)] + [(512,2,2)]', 'conv_bias': False, 'logit_temp': 0.1, 'quantize_targets': False, 'quantize_input': False, 'same_quantizer': False, 'target_glu': False, 'feature_grad_mult': 1.0, 'quantizer_depth': 1, 'quantizer_factor': 3, 'latent_vars': 320, 'latent_groups': 2, 'latent_dim': 0, 'mask_length': 10, 'mask_prob': 0.65, 'mask_selection': 'static', 'mask_other': 0.0, 'no_mask_overlap': False, 'mask_min_space': 1, 'require_same_masks': True, 'mask_dropout': 0.0, 'mask_channel_length': 10, 'mask_channel_prob': 0.0, 'mask_channel_before': False, 'mask_channel_selection': 'static', 'mask_channel_other': 0.0, 'no_mask_channel_overlap': False, 'mask_channel_min_space': 1, 'num_negatives': 100, 'negatives_from_everywhere': False, 'cross_sample_negatives': 0, 'codebook_negatives': 0, 'conv_pos': 128, 'conv_pos_groups': 16, 'pos_conv_depth': 1, 'latent_temp': [2.0, 0.5, 0.999995], 'max_positions': 100000, 'checkpoint_activations': False, 'required_seq_len_multiple': 1, 'crop_seq_to_multiple': 1, 'depthwise_conv_kernel_size': 31, 'attn_type': '', 'pos_enc_type': 'abs', 'fp16': False}, 'task': {'_name': 'translation', 'data': 'data/round_0/orig_bad/fairseq_preprocess__orig_bad.1', 'source_lang': 'bad', 'target_lang': 'good', 'load_alignments': False, 'left_pad_source': True, 'left_pad_target': False, 'max_source_positions': 1024, 'max_target_positions': 1024, 'upsample_primary': -1, 'truncate_source': False, 'num_batch_buckets': 0, 'train_subset': 'train', 'dataset_impl': None, 'required_seq_len_multiple': 1, 'eval_bleu': False, 'eval_bleu_args': '{}', 'eval_bleu_detok': 'space', 'eval_bleu_detok_args': '{}', 'eval_tokenized_bleu': False, 'eval_bleu_remove_bpe': None, 'eval_bleu_print_samples': False}, 'criterion': {'_name': 'cross_entropy', 'sentence_avg': True}, 'optimizer': None, 'lr_scheduler': {'_name': 'fixed', 'force_anneal': None, 'lr_shrink': 0.1, 'warmup_updates': 0, 'lr': [0.25]}, 'scoring': {'_name': 'bleu', 'pad': 1, 'eos': 2, 'unk': 3}, 'bpe': None, 'tokenizer': None, 'ema': {'_name': None, 'store_ema': False, 'ema_decay': 0.9999, 'ema_start_update': 0, 'ema_seed_model': None, 'ema_update_freq': 1, 'ema_fp32': False}}\n",
      "2024-07-18 16:10:07 | INFO | fairseq.tasks.translation | [bad] dictionary: 10000 types\n",
      "2024-07-18 16:10:07 | INFO | fairseq.tasks.translation | [good] dictionary: 10000 types\n",
      "2024-07-18 16:10:07 | INFO | fairseq_cli.generate | loading model(s) from data/round_0/model-fixer/checkpoint_best.pt\n",
      "2024-07-18 16:10:07 | INFO | fairseq.data.data_utils | loaded 7,528 examples from: data/round_0/orig_bad/fairseq_preprocess__orig_bad.1/test.bad-good.bad\n",
      "2024-07-18 16:10:07 | INFO | fairseq.tasks.translation | data/round_0/orig_bad/fairseq_preprocess__orig_bad.1 test bad-good 7528 examples\n",
      "2024-07-18 16:10:08 | INFO | fairseq.tasks.text_to_speech | Please install tensorboardX: pip install tensorboardX\n",
      "2024-07-18 19:37:07 | INFO | fairseq_cli.generate | NOTE: hypothesis and token scores are output in base 2\n",
      "2024-07-18 19:37:07 | INFO | fairseq_cli.generate | Translated 7,528 sentences (547,202 tokens) in 1501.6s (5.01 sentences/s, 364.42 tokens/s)\n",
      "2024-07-18 19:37:09 | INFO | fairseq.tasks.text_to_speech | Please install tensorboardX: pip install tensorboardX\n",
      "/Users/vuquanghuy/miniconda3/envs/torch/lib/python3.10/multiprocessing/resource_tracker.py:224: UserWarning: resource_tracker: There appear to be 1 leaked semaphore objects to clean up at shutdown\n",
      "  warnings.warn('resource_tracker: There appear to be %d '\n",
      "2024-07-18 19:37:10 | INFO | fairseq_cli.generate | {'_name': None, 'common': {'_name': None, 'no_progress_bar': False, 'log_interval': 100, 'log_format': None, 'log_file': None, 'aim_repo': None, 'aim_run_hash': None, 'tensorboard_logdir': None, 'wandb_project': None, 'azureml_logging': False, 'seed': 1, 'cpu': False, 'tpu': False, 'bf16': False, 'memory_efficient_bf16': False, 'fp16': False, 'memory_efficient_fp16': False, 'fp16_no_flatten_grads': False, 'fp16_init_scale': 128, 'fp16_scale_window': None, 'fp16_scale_tolerance': 0.0, 'on_cpu_convert_precision': False, 'min_loss_scale': 0.0001, 'threshold_loss_scale': None, 'amp': False, 'amp_batch_retries': 2, 'amp_init_scale': 128, 'amp_scale_window': None, 'user_dir': None, 'empty_cache_freq': 0, 'all_gather_list_size': 16384, 'model_parallel_size': 1, 'quantization_config_path': None, 'profile': False, 'reset_logging': False, 'suppress_crashes': False, 'use_plasma_view': False, 'plasma_path': '/tmp/plasma'}, 'common_eval': {'_name': None, 'path': 'data/round_0/model-fixer/checkpoint_best.pt', 'post_process': None, 'quiet': False, 'model_overrides': '{}', 'results_path': None}, 'distributed_training': {'_name': None, 'distributed_world_size': 1, 'distributed_num_procs': 1, 'distributed_rank': 0, 'distributed_backend': 'nccl', 'distributed_init_method': None, 'distributed_port': -1, 'device_id': 0, 'distributed_no_spawn': False, 'ddp_backend': 'pytorch_ddp', 'ddp_comm_hook': 'none', 'bucket_cap_mb': 25, 'fix_batches_to_gpus': False, 'find_unused_parameters': False, 'gradient_as_bucket_view': False, 'fast_stat_sync': False, 'heartbeat_timeout': -1, 'broadcast_buffers': False, 'slowmo_momentum': None, 'slowmo_base_algorithm': 'localsgd', 'localsgd_frequency': 3, 'nprocs_per_node': 1, 'pipeline_model_parallel': False, 'pipeline_balance': None, 'pipeline_devices': None, 'pipeline_chunks': 0, 'pipeline_encoder_balance': None, 'pipeline_encoder_devices': None, 'pipeline_decoder_balance': None, 'pipeline_decoder_devices': None, 'pipeline_checkpoint': 'never', 'zero_sharding': 'none', 'fp16': False, 'memory_efficient_fp16': False, 'tpu': False, 'no_reshard_after_forward': False, 'fp32_reduce_scatter': False, 'cpu_offload': False, 'use_sharded_state': False, 'not_fsdp_flatten_parameters': False}, 'dataset': {'_name': None, 'num_workers': 1, 'skip_invalid_size_inputs_valid_test': False, 'max_tokens': 7000, 'batch_size': None, 'required_batch_size_multiple': 8, 'required_seq_len_multiple': 1, 'dataset_impl': None, 'data_buffer_size': 10, 'train_subset': 'train', 'valid_subset': 'valid', 'combine_valid_subsets': None, 'ignore_unused_valid_subsets': False, 'validate_interval': 1, 'validate_interval_updates': 0, 'validate_after_updates': 0, 'fixed_validation_seed': None, 'disable_validation': False, 'max_tokens_valid': 7000, 'batch_size_valid': None, 'max_valid_steps': None, 'curriculum': 0, 'gen_subset': 'test', 'num_shards': 1, 'shard_id': 0, 'grouped_shuffling': False, 'update_epoch_batch_itr': False, 'update_ordered_indices_seed': False}, 'optimization': {'_name': None, 'max_epoch': 0, 'max_update': 0, 'stop_time_hours': 0.0, 'clip_norm': 0.0, 'sentence_avg': False, 'update_freq': [1], 'lr': [0.25], 'stop_min_lr': -1.0, 'use_bmuf': False, 'skip_remainder_batch': False}, 'checkpoint': {'_name': None, 'save_dir': 'checkpoints', 'restore_file': 'checkpoint_last.pt', 'continue_once': None, 'finetune_from_model': None, 'reset_dataloader': False, 'reset_lr_scheduler': False, 'reset_meters': False, 'reset_optimizer': False, 'optimizer_overrides': '{}', 'save_interval': 1, 'save_interval_updates': 0, 'keep_interval_updates': -1, 'keep_interval_updates_pattern': -1, 'keep_last_epochs': -1, 'keep_best_checkpoints': -1, 'no_save': False, 'no_epoch_checkpoints': False, 'no_last_checkpoints': False, 'no_save_optimizer_state': False, 'best_checkpoint_metric': 'loss', 'maximize_best_checkpoint_metric': False, 'patience': -1, 'checkpoint_suffix': '', 'checkpoint_shard_count': 1, 'load_checkpoint_on_all_dp_ranks': False, 'write_checkpoints_asynchronously': False, 'model_parallel_size': 1}, 'bmuf': {'_name': None, 'block_lr': 1.0, 'block_momentum': 0.875, 'global_sync_iter': 50, 'warmup_iterations': 500, 'use_nbm': False, 'average_sync': False, 'distributed_world_size': 1}, 'generation': {'_name': None, 'beam': 10, 'nbest': 10, 'max_len_a': 1.0, 'max_len_b': 50, 'min_len': 1, 'match_source_len': False, 'unnormalized': False, 'no_early_stop': False, 'no_beamable_mm': False, 'lenpen': 1.0, 'unkpen': 0.0, 'replace_unk': None, 'sacrebleu': False, 'score_reference': False, 'prefix_size': 0, 'no_repeat_ngram_size': 0, 'sampling': False, 'sampling_topk': -1, 'sampling_topp': -1.0, 'constraints': None, 'temperature': 1.0, 'diverse_beam_groups': -1, 'diverse_beam_strength': 0.5, 'diversity_rate': -1.0, 'print_alignment': None, 'print_step': False, 'lm_path': None, 'lm_weight': 0.0, 'iter_decode_eos_penalty': 0.0, 'iter_decode_max_iter': 10, 'iter_decode_force_max_iter': False, 'iter_decode_with_beam': 1, 'iter_decode_with_external_reranker': False, 'retain_iter_history': False, 'retain_dropout': False, 'retain_dropout_modules': None, 'decoding_format': None, 'no_seed_provided': False, 'eos_token': None}, 'eval_lm': {'_name': None, 'output_word_probs': False, 'output_word_stats': False, 'context_window': 0, 'softmax_batch': 9223372036854775807}, 'interactive': {'_name': None, 'buffer_size': 0, 'input': '-'}, 'model': {'_name': 'wav2vec2', 'extractor_mode': 'default', 'encoder_layers': 12, 'encoder_embed_dim': 768, 'encoder_ffn_embed_dim': 3072, 'encoder_attention_heads': 12, 'activation_fn': 'gelu', 'layer_type': 'transformer', 'dropout': 0.1, 'attention_dropout': 0.1, 'activation_dropout': 0.0, 'encoder_layerdrop': 0.0, 'dropout_input': 0.0, 'dropout_features': 0.0, 'final_dim': 0, 'layer_norm_first': False, 'conv_feature_layers': '[(512, 10, 5)] + [(512, 3, 2)] * 4 + [(512,2,2)] + [(512,2,2)]', 'conv_bias': False, 'logit_temp': 0.1, 'quantize_targets': False, 'quantize_input': False, 'same_quantizer': False, 'target_glu': False, 'feature_grad_mult': 1.0, 'quantizer_depth': 1, 'quantizer_factor': 3, 'latent_vars': 320, 'latent_groups': 2, 'latent_dim': 0, 'mask_length': 10, 'mask_prob': 0.65, 'mask_selection': 'static', 'mask_other': 0.0, 'no_mask_overlap': False, 'mask_min_space': 1, 'require_same_masks': True, 'mask_dropout': 0.0, 'mask_channel_length': 10, 'mask_channel_prob': 0.0, 'mask_channel_before': False, 'mask_channel_selection': 'static', 'mask_channel_other': 0.0, 'no_mask_channel_overlap': False, 'mask_channel_min_space': 1, 'num_negatives': 100, 'negatives_from_everywhere': False, 'cross_sample_negatives': 0, 'codebook_negatives': 0, 'conv_pos': 128, 'conv_pos_groups': 16, 'pos_conv_depth': 1, 'latent_temp': [2.0, 0.5, 0.999995], 'max_positions': 100000, 'checkpoint_activations': False, 'required_seq_len_multiple': 1, 'crop_seq_to_multiple': 1, 'depthwise_conv_kernel_size': 31, 'attn_type': '', 'pos_enc_type': 'abs', 'fp16': False}, 'task': {'_name': 'translation', 'data': 'data/round_0/orig_bad/fairseq_preprocess__orig_bad.2', 'source_lang': 'bad', 'target_lang': 'good', 'load_alignments': False, 'left_pad_source': True, 'left_pad_target': False, 'max_source_positions': 1024, 'max_target_positions': 1024, 'upsample_primary': -1, 'truncate_source': False, 'num_batch_buckets': 0, 'train_subset': 'train', 'dataset_impl': None, 'required_seq_len_multiple': 1, 'eval_bleu': False, 'eval_bleu_args': '{}', 'eval_bleu_detok': 'space', 'eval_bleu_detok_args': '{}', 'eval_tokenized_bleu': False, 'eval_bleu_remove_bpe': None, 'eval_bleu_print_samples': False}, 'criterion': {'_name': 'cross_entropy', 'sentence_avg': True}, 'optimizer': None, 'lr_scheduler': {'_name': 'fixed', 'force_anneal': None, 'lr_shrink': 0.1, 'warmup_updates': 0, 'lr': [0.25]}, 'scoring': {'_name': 'bleu', 'pad': 1, 'eos': 2, 'unk': 3}, 'bpe': None, 'tokenizer': None, 'ema': {'_name': None, 'store_ema': False, 'ema_decay': 0.9999, 'ema_start_update': 0, 'ema_seed_model': None, 'ema_update_freq': 1, 'ema_fp32': False}}\n",
      "2024-07-18 19:37:10 | INFO | fairseq.tasks.translation | [bad] dictionary: 10000 types\n",
      "2024-07-18 19:37:10 | INFO | fairseq.tasks.translation | [good] dictionary: 10000 types\n",
      "2024-07-18 19:37:10 | INFO | fairseq_cli.generate | loading model(s) from data/round_0/model-fixer/checkpoint_best.pt\n",
      "2024-07-18 19:37:10 | INFO | fairseq.data.data_utils | loaded 7,528 examples from: data/round_0/orig_bad/fairseq_preprocess__orig_bad.2/test.bad-good.bad\n",
      "2024-07-18 19:37:10 | INFO | fairseq.tasks.translation | data/round_0/orig_bad/fairseq_preprocess__orig_bad.2 test bad-good 7528 examples\n",
      "2024-07-18 19:37:11 | INFO | fairseq.tasks.text_to_speech | Please install tensorboardX: pip install tensorboardX\n",
      "2024-07-18 20:12:09 | INFO | fairseq_cli.generate | NOTE: hypothesis and token scores are output in base 2\n",
      "2024-07-18 20:12:09 | INFO | fairseq_cli.generate | Translated 7,528 sentences (546,826 tokens) in 1485.1s (5.07 sentences/s, 368.22 tokens/s)\n",
      "2024-07-18 20:12:10 | INFO | fairseq.tasks.text_to_speech | Please install tensorboardX: pip install tensorboardX\n",
      "/Users/vuquanghuy/miniconda3/envs/torch/lib/python3.10/multiprocessing/resource_tracker.py:224: UserWarning: resource_tracker: There appear to be 1 leaked semaphore objects to clean up at shutdown\n",
      "  warnings.warn('resource_tracker: There appear to be %d '\n",
      "2024-07-18 20:12:11 | INFO | fairseq_cli.generate | {'_name': None, 'common': {'_name': None, 'no_progress_bar': False, 'log_interval': 100, 'log_format': None, 'log_file': None, 'aim_repo': None, 'aim_run_hash': None, 'tensorboard_logdir': None, 'wandb_project': None, 'azureml_logging': False, 'seed': 1, 'cpu': False, 'tpu': False, 'bf16': False, 'memory_efficient_bf16': False, 'fp16': False, 'memory_efficient_fp16': False, 'fp16_no_flatten_grads': False, 'fp16_init_scale': 128, 'fp16_scale_window': None, 'fp16_scale_tolerance': 0.0, 'on_cpu_convert_precision': False, 'min_loss_scale': 0.0001, 'threshold_loss_scale': None, 'amp': False, 'amp_batch_retries': 2, 'amp_init_scale': 128, 'amp_scale_window': None, 'user_dir': None, 'empty_cache_freq': 0, 'all_gather_list_size': 16384, 'model_parallel_size': 1, 'quantization_config_path': None, 'profile': False, 'reset_logging': False, 'suppress_crashes': False, 'use_plasma_view': False, 'plasma_path': '/tmp/plasma'}, 'common_eval': {'_name': None, 'path': 'data/round_0/model-fixer/checkpoint_best.pt', 'post_process': None, 'quiet': False, 'model_overrides': '{}', 'results_path': None}, 'distributed_training': {'_name': None, 'distributed_world_size': 1, 'distributed_num_procs': 1, 'distributed_rank': 0, 'distributed_backend': 'nccl', 'distributed_init_method': None, 'distributed_port': -1, 'device_id': 0, 'distributed_no_spawn': False, 'ddp_backend': 'pytorch_ddp', 'ddp_comm_hook': 'none', 'bucket_cap_mb': 25, 'fix_batches_to_gpus': False, 'find_unused_parameters': False, 'gradient_as_bucket_view': False, 'fast_stat_sync': False, 'heartbeat_timeout': -1, 'broadcast_buffers': False, 'slowmo_momentum': None, 'slowmo_base_algorithm': 'localsgd', 'localsgd_frequency': 3, 'nprocs_per_node': 1, 'pipeline_model_parallel': False, 'pipeline_balance': None, 'pipeline_devices': None, 'pipeline_chunks': 0, 'pipeline_encoder_balance': None, 'pipeline_encoder_devices': None, 'pipeline_decoder_balance': None, 'pipeline_decoder_devices': None, 'pipeline_checkpoint': 'never', 'zero_sharding': 'none', 'fp16': False, 'memory_efficient_fp16': False, 'tpu': False, 'no_reshard_after_forward': False, 'fp32_reduce_scatter': False, 'cpu_offload': False, 'use_sharded_state': False, 'not_fsdp_flatten_parameters': False}, 'dataset': {'_name': None, 'num_workers': 1, 'skip_invalid_size_inputs_valid_test': False, 'max_tokens': 7000, 'batch_size': None, 'required_batch_size_multiple': 8, 'required_seq_len_multiple': 1, 'dataset_impl': None, 'data_buffer_size': 10, 'train_subset': 'train', 'valid_subset': 'valid', 'combine_valid_subsets': None, 'ignore_unused_valid_subsets': False, 'validate_interval': 1, 'validate_interval_updates': 0, 'validate_after_updates': 0, 'fixed_validation_seed': None, 'disable_validation': False, 'max_tokens_valid': 7000, 'batch_size_valid': None, 'max_valid_steps': None, 'curriculum': 0, 'gen_subset': 'test', 'num_shards': 1, 'shard_id': 0, 'grouped_shuffling': False, 'update_epoch_batch_itr': False, 'update_ordered_indices_seed': False}, 'optimization': {'_name': None, 'max_epoch': 0, 'max_update': 0, 'stop_time_hours': 0.0, 'clip_norm': 0.0, 'sentence_avg': False, 'update_freq': [1], 'lr': [0.25], 'stop_min_lr': -1.0, 'use_bmuf': False, 'skip_remainder_batch': False}, 'checkpoint': {'_name': None, 'save_dir': 'checkpoints', 'restore_file': 'checkpoint_last.pt', 'continue_once': None, 'finetune_from_model': None, 'reset_dataloader': False, 'reset_lr_scheduler': False, 'reset_meters': False, 'reset_optimizer': False, 'optimizer_overrides': '{}', 'save_interval': 1, 'save_interval_updates': 0, 'keep_interval_updates': -1, 'keep_interval_updates_pattern': -1, 'keep_last_epochs': -1, 'keep_best_checkpoints': -1, 'no_save': False, 'no_epoch_checkpoints': False, 'no_last_checkpoints': False, 'no_save_optimizer_state': False, 'best_checkpoint_metric': 'loss', 'maximize_best_checkpoint_metric': False, 'patience': -1, 'checkpoint_suffix': '', 'checkpoint_shard_count': 1, 'load_checkpoint_on_all_dp_ranks': False, 'write_checkpoints_asynchronously': False, 'model_parallel_size': 1}, 'bmuf': {'_name': None, 'block_lr': 1.0, 'block_momentum': 0.875, 'global_sync_iter': 50, 'warmup_iterations': 500, 'use_nbm': False, 'average_sync': False, 'distributed_world_size': 1}, 'generation': {'_name': None, 'beam': 10, 'nbest': 10, 'max_len_a': 1.0, 'max_len_b': 50, 'min_len': 1, 'match_source_len': False, 'unnormalized': False, 'no_early_stop': False, 'no_beamable_mm': False, 'lenpen': 1.0, 'unkpen': 0.0, 'replace_unk': None, 'sacrebleu': False, 'score_reference': False, 'prefix_size': 0, 'no_repeat_ngram_size': 0, 'sampling': False, 'sampling_topk': -1, 'sampling_topp': -1.0, 'constraints': None, 'temperature': 1.0, 'diverse_beam_groups': -1, 'diverse_beam_strength': 0.5, 'diversity_rate': -1.0, 'print_alignment': None, 'print_step': False, 'lm_path': None, 'lm_weight': 0.0, 'iter_decode_eos_penalty': 0.0, 'iter_decode_max_iter': 10, 'iter_decode_force_max_iter': False, 'iter_decode_with_beam': 1, 'iter_decode_with_external_reranker': False, 'retain_iter_history': False, 'retain_dropout': False, 'retain_dropout_modules': None, 'decoding_format': None, 'no_seed_provided': False, 'eos_token': None}, 'eval_lm': {'_name': None, 'output_word_probs': False, 'output_word_stats': False, 'context_window': 0, 'softmax_batch': 9223372036854775807}, 'interactive': {'_name': None, 'buffer_size': 0, 'input': '-'}, 'model': {'_name': 'wav2vec2', 'extractor_mode': 'default', 'encoder_layers': 12, 'encoder_embed_dim': 768, 'encoder_ffn_embed_dim': 3072, 'encoder_attention_heads': 12, 'activation_fn': 'gelu', 'layer_type': 'transformer', 'dropout': 0.1, 'attention_dropout': 0.1, 'activation_dropout': 0.0, 'encoder_layerdrop': 0.0, 'dropout_input': 0.0, 'dropout_features': 0.0, 'final_dim': 0, 'layer_norm_first': False, 'conv_feature_layers': '[(512, 10, 5)] + [(512, 3, 2)] * 4 + [(512,2,2)] + [(512,2,2)]', 'conv_bias': False, 'logit_temp': 0.1, 'quantize_targets': False, 'quantize_input': False, 'same_quantizer': False, 'target_glu': False, 'feature_grad_mult': 1.0, 'quantizer_depth': 1, 'quantizer_factor': 3, 'latent_vars': 320, 'latent_groups': 2, 'latent_dim': 0, 'mask_length': 10, 'mask_prob': 0.65, 'mask_selection': 'static', 'mask_other': 0.0, 'no_mask_overlap': False, 'mask_min_space': 1, 'require_same_masks': True, 'mask_dropout': 0.0, 'mask_channel_length': 10, 'mask_channel_prob': 0.0, 'mask_channel_before': False, 'mask_channel_selection': 'static', 'mask_channel_other': 0.0, 'no_mask_channel_overlap': False, 'mask_channel_min_space': 1, 'num_negatives': 100, 'negatives_from_everywhere': False, 'cross_sample_negatives': 0, 'codebook_negatives': 0, 'conv_pos': 128, 'conv_pos_groups': 16, 'pos_conv_depth': 1, 'latent_temp': [2.0, 0.5, 0.999995], 'max_positions': 100000, 'checkpoint_activations': False, 'required_seq_len_multiple': 1, 'crop_seq_to_multiple': 1, 'depthwise_conv_kernel_size': 31, 'attn_type': '', 'pos_enc_type': 'abs', 'fp16': False}, 'task': {'_name': 'translation', 'data': 'data/round_0/orig_bad/fairseq_preprocess__orig_bad.3', 'source_lang': 'bad', 'target_lang': 'good', 'load_alignments': False, 'left_pad_source': True, 'left_pad_target': False, 'max_source_positions': 1024, 'max_target_positions': 1024, 'upsample_primary': -1, 'truncate_source': False, 'num_batch_buckets': 0, 'train_subset': 'train', 'dataset_impl': None, 'required_seq_len_multiple': 1, 'eval_bleu': False, 'eval_bleu_args': '{}', 'eval_bleu_detok': 'space', 'eval_bleu_detok_args': '{}', 'eval_tokenized_bleu': False, 'eval_bleu_remove_bpe': None, 'eval_bleu_print_samples': False}, 'criterion': {'_name': 'cross_entropy', 'sentence_avg': True}, 'optimizer': None, 'lr_scheduler': {'_name': 'fixed', 'force_anneal': None, 'lr_shrink': 0.1, 'warmup_updates': 0, 'lr': [0.25]}, 'scoring': {'_name': 'bleu', 'pad': 1, 'eos': 2, 'unk': 3}, 'bpe': None, 'tokenizer': None, 'ema': {'_name': None, 'store_ema': False, 'ema_decay': 0.9999, 'ema_start_update': 0, 'ema_seed_model': None, 'ema_update_freq': 1, 'ema_fp32': False}}\n",
      "2024-07-18 20:12:11 | INFO | fairseq.tasks.translation | [bad] dictionary: 10000 types\n",
      "2024-07-18 20:12:11 | INFO | fairseq.tasks.translation | [good] dictionary: 10000 types\n",
      "2024-07-18 20:12:11 | INFO | fairseq_cli.generate | loading model(s) from data/round_0/model-fixer/checkpoint_best.pt\n",
      "2024-07-18 20:12:11 | INFO | fairseq.data.data_utils | loaded 7,528 examples from: data/round_0/orig_bad/fairseq_preprocess__orig_bad.3/test.bad-good.bad\n",
      "2024-07-18 20:12:11 | INFO | fairseq.tasks.translation | data/round_0/orig_bad/fairseq_preprocess__orig_bad.3 test bad-good 7528 examples\n",
      "2024-07-18 20:12:12 | INFO | fairseq.tasks.text_to_speech | Please install tensorboardX: pip install tensorboardX\n",
      "2024-07-19 09:00:37 | INFO | fairseq_cli.generate | NOTE: hypothesis and token scores are output in base 2\n",
      "2024-07-19 09:00:37 | INFO | fairseq_cli.generate | Translated 7,528 sentences (545,512 tokens) in 1527.4s (4.93 sentences/s, 357.16 tokens/s)\n",
      "2024-07-19 09:00:39 | INFO | fairseq.tasks.text_to_speech | Please install tensorboardX: pip install tensorboardX\n",
      "/Users/vuquanghuy/miniconda3/envs/torch/lib/python3.10/multiprocessing/resource_tracker.py:224: UserWarning: resource_tracker: There appear to be 1 leaked semaphore objects to clean up at shutdown\n",
      "  warnings.warn('resource_tracker: There appear to be %d '\n",
      "2024-07-19 09:00:39 | INFO | fairseq_cli.generate | {'_name': None, 'common': {'_name': None, 'no_progress_bar': False, 'log_interval': 100, 'log_format': None, 'log_file': None, 'aim_repo': None, 'aim_run_hash': None, 'tensorboard_logdir': None, 'wandb_project': None, 'azureml_logging': False, 'seed': 1, 'cpu': False, 'tpu': False, 'bf16': False, 'memory_efficient_bf16': False, 'fp16': False, 'memory_efficient_fp16': False, 'fp16_no_flatten_grads': False, 'fp16_init_scale': 128, 'fp16_scale_window': None, 'fp16_scale_tolerance': 0.0, 'on_cpu_convert_precision': False, 'min_loss_scale': 0.0001, 'threshold_loss_scale': None, 'amp': False, 'amp_batch_retries': 2, 'amp_init_scale': 128, 'amp_scale_window': None, 'user_dir': None, 'empty_cache_freq': 0, 'all_gather_list_size': 16384, 'model_parallel_size': 1, 'quantization_config_path': None, 'profile': False, 'reset_logging': False, 'suppress_crashes': False, 'use_plasma_view': False, 'plasma_path': '/tmp/plasma'}, 'common_eval': {'_name': None, 'path': 'data/round_0/model-fixer/checkpoint_best.pt', 'post_process': None, 'quiet': False, 'model_overrides': '{}', 'results_path': None}, 'distributed_training': {'_name': None, 'distributed_world_size': 1, 'distributed_num_procs': 1, 'distributed_rank': 0, 'distributed_backend': 'nccl', 'distributed_init_method': None, 'distributed_port': -1, 'device_id': 0, 'distributed_no_spawn': False, 'ddp_backend': 'pytorch_ddp', 'ddp_comm_hook': 'none', 'bucket_cap_mb': 25, 'fix_batches_to_gpus': False, 'find_unused_parameters': False, 'gradient_as_bucket_view': False, 'fast_stat_sync': False, 'heartbeat_timeout': -1, 'broadcast_buffers': False, 'slowmo_momentum': None, 'slowmo_base_algorithm': 'localsgd', 'localsgd_frequency': 3, 'nprocs_per_node': 1, 'pipeline_model_parallel': False, 'pipeline_balance': None, 'pipeline_devices': None, 'pipeline_chunks': 0, 'pipeline_encoder_balance': None, 'pipeline_encoder_devices': None, 'pipeline_decoder_balance': None, 'pipeline_decoder_devices': None, 'pipeline_checkpoint': 'never', 'zero_sharding': 'none', 'fp16': False, 'memory_efficient_fp16': False, 'tpu': False, 'no_reshard_after_forward': False, 'fp32_reduce_scatter': False, 'cpu_offload': False, 'use_sharded_state': False, 'not_fsdp_flatten_parameters': False}, 'dataset': {'_name': None, 'num_workers': 1, 'skip_invalid_size_inputs_valid_test': False, 'max_tokens': 7000, 'batch_size': None, 'required_batch_size_multiple': 8, 'required_seq_len_multiple': 1, 'dataset_impl': None, 'data_buffer_size': 10, 'train_subset': 'train', 'valid_subset': 'valid', 'combine_valid_subsets': None, 'ignore_unused_valid_subsets': False, 'validate_interval': 1, 'validate_interval_updates': 0, 'validate_after_updates': 0, 'fixed_validation_seed': None, 'disable_validation': False, 'max_tokens_valid': 7000, 'batch_size_valid': None, 'max_valid_steps': None, 'curriculum': 0, 'gen_subset': 'test', 'num_shards': 1, 'shard_id': 0, 'grouped_shuffling': False, 'update_epoch_batch_itr': False, 'update_ordered_indices_seed': False}, 'optimization': {'_name': None, 'max_epoch': 0, 'max_update': 0, 'stop_time_hours': 0.0, 'clip_norm': 0.0, 'sentence_avg': False, 'update_freq': [1], 'lr': [0.25], 'stop_min_lr': -1.0, 'use_bmuf': False, 'skip_remainder_batch': False}, 'checkpoint': {'_name': None, 'save_dir': 'checkpoints', 'restore_file': 'checkpoint_last.pt', 'continue_once': None, 'finetune_from_model': None, 'reset_dataloader': False, 'reset_lr_scheduler': False, 'reset_meters': False, 'reset_optimizer': False, 'optimizer_overrides': '{}', 'save_interval': 1, 'save_interval_updates': 0, 'keep_interval_updates': -1, 'keep_interval_updates_pattern': -1, 'keep_last_epochs': -1, 'keep_best_checkpoints': -1, 'no_save': False, 'no_epoch_checkpoints': False, 'no_last_checkpoints': False, 'no_save_optimizer_state': False, 'best_checkpoint_metric': 'loss', 'maximize_best_checkpoint_metric': False, 'patience': -1, 'checkpoint_suffix': '', 'checkpoint_shard_count': 1, 'load_checkpoint_on_all_dp_ranks': False, 'write_checkpoints_asynchronously': False, 'model_parallel_size': 1}, 'bmuf': {'_name': None, 'block_lr': 1.0, 'block_momentum': 0.875, 'global_sync_iter': 50, 'warmup_iterations': 500, 'use_nbm': False, 'average_sync': False, 'distributed_world_size': 1}, 'generation': {'_name': None, 'beam': 10, 'nbest': 10, 'max_len_a': 1.0, 'max_len_b': 50, 'min_len': 1, 'match_source_len': False, 'unnormalized': False, 'no_early_stop': False, 'no_beamable_mm': False, 'lenpen': 1.0, 'unkpen': 0.0, 'replace_unk': None, 'sacrebleu': False, 'score_reference': False, 'prefix_size': 0, 'no_repeat_ngram_size': 0, 'sampling': False, 'sampling_topk': -1, 'sampling_topp': -1.0, 'constraints': None, 'temperature': 1.0, 'diverse_beam_groups': -1, 'diverse_beam_strength': 0.5, 'diversity_rate': -1.0, 'print_alignment': None, 'print_step': False, 'lm_path': None, 'lm_weight': 0.0, 'iter_decode_eos_penalty': 0.0, 'iter_decode_max_iter': 10, 'iter_decode_force_max_iter': False, 'iter_decode_with_beam': 1, 'iter_decode_with_external_reranker': False, 'retain_iter_history': False, 'retain_dropout': False, 'retain_dropout_modules': None, 'decoding_format': None, 'no_seed_provided': False, 'eos_token': None}, 'eval_lm': {'_name': None, 'output_word_probs': False, 'output_word_stats': False, 'context_window': 0, 'softmax_batch': 9223372036854775807}, 'interactive': {'_name': None, 'buffer_size': 0, 'input': '-'}, 'model': {'_name': 'wav2vec2', 'extractor_mode': 'default', 'encoder_layers': 12, 'encoder_embed_dim': 768, 'encoder_ffn_embed_dim': 3072, 'encoder_attention_heads': 12, 'activation_fn': 'gelu', 'layer_type': 'transformer', 'dropout': 0.1, 'attention_dropout': 0.1, 'activation_dropout': 0.0, 'encoder_layerdrop': 0.0, 'dropout_input': 0.0, 'dropout_features': 0.0, 'final_dim': 0, 'layer_norm_first': False, 'conv_feature_layers': '[(512, 10, 5)] + [(512, 3, 2)] * 4 + [(512,2,2)] + [(512,2,2)]', 'conv_bias': False, 'logit_temp': 0.1, 'quantize_targets': False, 'quantize_input': False, 'same_quantizer': False, 'target_glu': False, 'feature_grad_mult': 1.0, 'quantizer_depth': 1, 'quantizer_factor': 3, 'latent_vars': 320, 'latent_groups': 2, 'latent_dim': 0, 'mask_length': 10, 'mask_prob': 0.65, 'mask_selection': 'static', 'mask_other': 0.0, 'no_mask_overlap': False, 'mask_min_space': 1, 'require_same_masks': True, 'mask_dropout': 0.0, 'mask_channel_length': 10, 'mask_channel_prob': 0.0, 'mask_channel_before': False, 'mask_channel_selection': 'static', 'mask_channel_other': 0.0, 'no_mask_channel_overlap': False, 'mask_channel_min_space': 1, 'num_negatives': 100, 'negatives_from_everywhere': False, 'cross_sample_negatives': 0, 'codebook_negatives': 0, 'conv_pos': 128, 'conv_pos_groups': 16, 'pos_conv_depth': 1, 'latent_temp': [2.0, 0.5, 0.999995], 'max_positions': 100000, 'checkpoint_activations': False, 'required_seq_len_multiple': 1, 'crop_seq_to_multiple': 1, 'depthwise_conv_kernel_size': 31, 'attn_type': '', 'pos_enc_type': 'abs', 'fp16': False}, 'task': {'_name': 'translation', 'data': 'data/round_0/orig_bad/fairseq_preprocess__orig_bad.4', 'source_lang': 'bad', 'target_lang': 'good', 'load_alignments': False, 'left_pad_source': True, 'left_pad_target': False, 'max_source_positions': 1024, 'max_target_positions': 1024, 'upsample_primary': -1, 'truncate_source': False, 'num_batch_buckets': 0, 'train_subset': 'train', 'dataset_impl': None, 'required_seq_len_multiple': 1, 'eval_bleu': False, 'eval_bleu_args': '{}', 'eval_bleu_detok': 'space', 'eval_bleu_detok_args': '{}', 'eval_tokenized_bleu': False, 'eval_bleu_remove_bpe': None, 'eval_bleu_print_samples': False}, 'criterion': {'_name': 'cross_entropy', 'sentence_avg': True}, 'optimizer': None, 'lr_scheduler': {'_name': 'fixed', 'force_anneal': None, 'lr_shrink': 0.1, 'warmup_updates': 0, 'lr': [0.25]}, 'scoring': {'_name': 'bleu', 'pad': 1, 'eos': 2, 'unk': 3}, 'bpe': None, 'tokenizer': None, 'ema': {'_name': None, 'store_ema': False, 'ema_decay': 0.9999, 'ema_start_update': 0, 'ema_seed_model': None, 'ema_update_freq': 1, 'ema_fp32': False}}\n",
      "2024-07-19 09:00:39 | INFO | fairseq.tasks.translation | [bad] dictionary: 10000 types\n",
      "2024-07-19 09:00:39 | INFO | fairseq.tasks.translation | [good] dictionary: 10000 types\n",
      "2024-07-19 09:00:39 | INFO | fairseq_cli.generate | loading model(s) from data/round_0/model-fixer/checkpoint_best.pt\n",
      "2024-07-19 09:00:40 | INFO | fairseq.data.data_utils | loaded 7,527 examples from: data/round_0/orig_bad/fairseq_preprocess__orig_bad.4/test.bad-good.bad\n",
      "2024-07-19 09:00:40 | INFO | fairseq.tasks.translation | data/round_0/orig_bad/fairseq_preprocess__orig_bad.4 test bad-good 7527 examples\n",
      "2024-07-19 09:00:40 | INFO | fairseq.tasks.text_to_speech | Please install tensorboardX: pip install tensorboardX\n",
      "Traceback (most recent call last):\n",
      "  File \"/Users/vuquanghuy/miniconda3/envs/torch/bin/fairseq-generate\", line 8, in <module>\n",
      "    sys.exit(cli_main())\n",
      "  File \"/Users/vuquanghuy/miniconda3/envs/torch/lib/python3.10/site-packages/fairseq_cli/generate.py\", line 413, in cli_main\n",
      "    main(args)\n",
      "  File \"/Users/vuquanghuy/miniconda3/envs/torch/lib/python3.10/site-packages/fairseq_cli/generate.py\", line 50, in main\n",
      "    return _main(cfg, sys.stdout)\n",
      "  File \"/Users/vuquanghuy/miniconda3/envs/torch/lib/python3.10/site-packages/fairseq_cli/generate.py\", line 187, in _main\n",
      "    for sample in progress:\n",
      "  File \"/Users/vuquanghuy/miniconda3/envs/torch/lib/python3.10/site-packages/fairseq/logging/progress_bar.py\", line 272, in __iter__\n",
      "    for i, obj in enumerate(self.iterable, start=self.n):\n",
      "  File \"/Users/vuquanghuy/miniconda3/envs/torch/lib/python3.10/site-packages/fairseq/data/iterators.py\", line 57, in __next__\n",
      "    x = next(self._itr)\n",
      "  File \"/Users/vuquanghuy/miniconda3/envs/torch/lib/python3.10/site-packages/fairseq/data/iterators.py\", line 742, in __next__\n",
      "    raise item\n",
      "  File \"/Users/vuquanghuy/miniconda3/envs/torch/lib/python3.10/site-packages/fairseq/data/iterators.py\", line 672, in run\n",
      "    for item in self._source:\n",
      "  File \"/Users/vuquanghuy/miniconda3/envs/torch/lib/python3.10/site-packages/torch/utils/data/dataloader.py\", line 631, in __next__\n",
      "    data = self._next_data()\n",
      "  File \"/Users/vuquanghuy/miniconda3/envs/torch/lib/python3.10/site-packages/torch/utils/data/dataloader.py\", line 1329, in _next_data\n",
      "    idx, data = self._get_data()\n",
      "  File \"/Users/vuquanghuy/miniconda3/envs/torch/lib/python3.10/site-packages/torch/utils/data/dataloader.py\", line 1295, in _get_data\n",
      "    success, data = self._try_get_data()\n",
      "  File \"/Users/vuquanghuy/miniconda3/envs/torch/lib/python3.10/site-packages/torch/utils/data/dataloader.py\", line 1133, in _try_get_data\n",
      "    data = self._data_queue.get(timeout=timeout)\n",
      "  File \"/Users/vuquanghuy/miniconda3/envs/torch/lib/python3.10/multiprocessing/queues.py\", line 122, in get\n",
      "    return _ForkingPickler.loads(res)\n",
      "  File \"/Users/vuquanghuy/miniconda3/envs/torch/lib/python3.10/site-packages/torch/multiprocessing/reductions.py\", line 514, in rebuild_storage_filename\n",
      "    storage = torch.UntypedStorage._new_shared_filename_cpu(manager, handle, size)\n",
      "RuntimeError: Shared memory manager connection has timed out\n"
     ]
    }
   ],
   "execution_count": 8
  },
  {
   "metadata": {
    "id": "x9HbGkFuMJa-"
   },
   "cell_type": "markdown",
   "source": [
    "## Evaluate fixer"
   ]
  },
  {
   "metadata": {
    "id": "gOfPzaKzMJa_",
    "outputId": "1dfa70be-7f3c-4387-bff7-9b3e84bb6077",
    "ExecuteTime": {
     "end_time": "2024-07-14T02:08:22.261457Z",
     "start_time": "2024-07-14T02:06:41.808817Z"
    }
   },
   "cell_type": "code",
   "source": [
    "# all the original bad code is split into 5 chunks for faster processing\n",
    "for split in range(n_splits):\n",
    "    eval_one_split(pred_dir_prefix, split, pred_fname, n_workers=10)\n",
    "\n",
    "get_test_result(pred_dir_prefix, pred_fname)"
   ],
   "outputs": [
    {
     "name": "stdout",
     "output_type": "stream",
     "text": [
      "len(preds) 7528\n"
     ]
    },
    {
     "name": "stderr",
     "output_type": "stream",
     "text": [
      "7528it [00:16, 458.83it/s]\n"
     ]
    },
    {
     "name": "stdout",
     "output_type": "stream",
     "text": [
      "len(preds) 7528\n"
     ]
    },
    {
     "name": "stderr",
     "output_type": "stream",
     "text": [
      "7528it [00:15, 470.70it/s]\n"
     ]
    },
    {
     "name": "stdout",
     "output_type": "stream",
     "text": [
      "len(preds) 7528\n"
     ]
    },
    {
     "name": "stderr",
     "output_type": "stream",
     "text": [
      "7528it [00:15, 472.78it/s]\n"
     ]
    },
    {
     "name": "stdout",
     "output_type": "stream",
     "text": [
      "len(preds) 7528\n"
     ]
    },
    {
     "name": "stderr",
     "output_type": "stream",
     "text": [
      "7528it [00:15, 477.81it/s]\n"
     ]
    },
    {
     "name": "stdout",
     "output_type": "stream",
     "text": [
      "len(preds) 7527\n"
     ]
    },
    {
     "name": "stderr",
     "output_type": "stream",
     "text": [
      "7527it [00:16, 461.42it/s]\n"
     ]
    },
    {
     "name": "stdout",
     "output_type": "stream",
     "text": [
      "split 3\n",
      "split 4\n",
      "Total\n",
      "   acc: 8031 (53.3%) | denom 15055\n",
      "--------------------------------------------------\n",
      "Unbalanced (){}[]\n",
      "   acc: 2871 (71.8%) | denom 3999\n",
      "Invalid syntax\n",
      "   acc: 2316 (48.8%) | denom 4749\n",
      "Indentation error\n",
      "   acc: 2844 (45.1%) | denom 6307\n"
     ]
    }
   ],
   "execution_count": 20
  },
  {
   "metadata": {
    "id": "D8oifIGSMJa_"
   },
   "cell_type": "markdown",
   "source": []
  },
  {
   "metadata": {},
   "cell_type": "markdown",
   "source": [
    "# Round 1\n",
    "\n",
    "To Be Updated"
   ]
  },
  {
   "cell_type": "markdown",
   "metadata": {
    "id": "WwxK8uD3HQKe"
   },
   "source": [
    "# Applying the Model in Practice\n",
    "\n",
    "In this section, we'll demonstrate how to apply the trained model to real-world code by following these steps:\n",
    "\n",
    "- Read the code and tokenize it into appropriate units.\n",
    "- Preprocess the tokenized code using the `fairseq-preprocess` command to prepare it for the model.\n",
    "- Generate predictions using the `fairseq-generate` command, leveraging the preprocessed code as input.\n",
    "- Join the generated code tokens back into a complete code string using the `code_toks_to_code_string` function."
   ]
  },
  {
   "metadata": {
    "ExecuteTime": {
     "end_time": "2024-07-20T09:02:46.153543Z",
     "start_time": "2024-07-20T09:02:46.136418Z"
    }
   },
   "cell_type": "code",
   "source": [
    "# Working directory\n",
    "working_dir = Path('data-apply')\n",
    "code_input = str(working_dir/'code-input.txt')\n",
    "token_input = str(working_dir/'token-input.bad')\n",
    "token_vocab = str(working_dir/'token-vocab.txt')"
   ],
   "outputs": [],
   "execution_count": 40
  },
  {
   "metadata": {},
   "cell_type": "markdown",
   "source": "## Read and tokenize"
  },
  {
   "metadata": {
    "ExecuteTime": {
     "end_time": "2024-07-20T09:07:11.848709Z",
     "start_time": "2024-07-20T09:07:11.831889Z"
    }
   },
   "cell_type": "code",
   "source": [
    "with open(code_input, 'r') as file:\n",
    "    code_content = file.read()\n",
    "\n",
    "tokens, anonymize_dict = tokenize_python_code(code_content)\n",
    "print(tokens)"
   ],
   "outputs": [
    {
     "name": "stdout",
     "output_type": "stream",
     "text": [
      "['def', 'read_file_to_string', '(', 'file_path', ',', 'chunk_size', '=', '1024', ')', ':', '<NEWLINE>', '<INDENT>', 'file_contents', '=', '<STRING>', '<NEWLINE>', 'with', 'open', '(', 'file_path', ',', '<STRING>', ',', 'encoding', '=', '<STRING>', ')', 'as', 'file', ':', '<NEWLINE>', '<INDENT>', 'while', 'True', ':', '<NEWLINE>', '<INDENT>', 'chunk', '=', 'file', '.', 'read', '(', 'chunk_size', ')', '<NEWLINE>', 'if', 'not', 'chunk', ':', '<NEWLINE>', '<INDENT>', 'break', '<NEWLINE>', '<DEDENT>', 'file_contents', '+=', 'chunk', '<NEWLINE>', '<DEDENT>', '<DEDENT>', 'return', 'file_contents', '<NEWLINE>', '<NL>', '<NL>', '<COMMENT>', '<NL>', '<DEDENT>', 'file_path', '=', '<STRING>', '<COMMENT>', '<NEWLINE>', 'text', '=', 'read_file_to_string', '(', 'file_path', ')', '<NEWLINE>', 'print', '(', 'text', ')', '<NEWLINE>', '<NL>', '<NL>', '<COMMENT>', '<NL>']\n"
     ]
    }
   ],
   "execution_count": 47
  },
  {
   "metadata": {},
   "cell_type": "markdown",
   "source": "## Save tokenized"
  },
  {
   "metadata": {
    "ExecuteTime": {
     "end_time": "2024-07-20T09:07:39.374982Z",
     "start_time": "2024-07-20T09:07:39.355416Z"
    }
   },
   "cell_type": "code",
   "source": [
    "with open(token_input, 'w') as file:\n",
    "    file.write(' '.join(tokens))"
   ],
   "outputs": [],
   "execution_count": 49
  },
  {
   "metadata": {},
   "cell_type": "markdown",
   "source": "## Preprocess tokens"
  },
  {
   "metadata": {
    "ExecuteTime": {
     "end_time": "2024-07-21T02:56:21.263540Z",
     "start_time": "2024-07-21T02:56:21.203067Z"
    }
   },
   "cell_type": "code",
   "source": "destdir = working_dir/'preprocess'",
   "outputs": [],
   "execution_count": 82
  },
  {
   "metadata": {
    "ExecuteTime": {
     "end_time": "2024-07-21T02:56:30.757427Z",
     "start_time": "2024-07-21T02:56:30.740328Z"
    }
   },
   "cell_type": "code",
   "source": [
    "fairseq_preprocess(src='bad', tgt='good', workers=10,\n",
    "                   destdir  = str(working_dir/'preprocess'),\n",
    "                   testpref = str(working_dir/'token-input'),\n",
    "                   srcdict = str(data_dir/'token_vocab.txt'),\n",
    "                   only_source=True)\n",
    "shutil.copy(str(data_dir/'token_vocab.txt'), str(destdir/'dict.good.txt'))"
   ],
   "outputs": [
    {
     "data": {
      "text/plain": [
       "'data-apply/preprocess/dict.good.txt'"
      ]
     },
     "execution_count": 83,
     "metadata": {},
     "output_type": "execute_result"
    }
   ],
   "execution_count": 83
  },
  {
   "metadata": {},
   "cell_type": "markdown",
   "source": "## Predict"
  },
  {
   "metadata": {
    "ExecuteTime": {
     "end_time": "2024-07-21T02:56:45.250800Z",
     "start_time": "2024-07-21T02:56:39.014994Z"
    }
   },
   "cell_type": "code",
   "source": [
    "model_dir = Path('models')\n",
    "\n",
    "predict_model = model_dir/'round2-BIFI-part2-checkpoint.pt'\n",
    "predict_path  = destdir/'bifi-model.pred.txt'\n",
    "\n",
    "fairseq_generate(str(destdir), str(predict_model), str(predict_path),\n",
    "                 src='bad', tgt='good', gen_subset='test',\n",
    "                 beam=10, nbest=10, max_len_a=1, max_len_b=50, max_tokens=7000)"
   ],
   "outputs": [
    {
     "name": "stderr",
     "output_type": "stream",
     "text": [
      "2024-07-21 09:56:40 | INFO | fairseq.tasks.text_to_speech | Please install tensorboardX: pip install tensorboardX\n",
      "2024-07-21 09:56:41 | INFO | fairseq_cli.generate | {'_name': None, 'common': {'_name': None, 'no_progress_bar': False, 'log_interval': 100, 'log_format': None, 'log_file': None, 'aim_repo': None, 'aim_run_hash': None, 'tensorboard_logdir': None, 'wandb_project': None, 'azureml_logging': False, 'seed': 1, 'cpu': False, 'tpu': False, 'bf16': False, 'memory_efficient_bf16': False, 'fp16': False, 'memory_efficient_fp16': False, 'fp16_no_flatten_grads': False, 'fp16_init_scale': 128, 'fp16_scale_window': None, 'fp16_scale_tolerance': 0.0, 'on_cpu_convert_precision': False, 'min_loss_scale': 0.0001, 'threshold_loss_scale': None, 'amp': False, 'amp_batch_retries': 2, 'amp_init_scale': 128, 'amp_scale_window': None, 'user_dir': None, 'empty_cache_freq': 0, 'all_gather_list_size': 16384, 'model_parallel_size': 1, 'quantization_config_path': None, 'profile': False, 'reset_logging': False, 'suppress_crashes': False, 'use_plasma_view': False, 'plasma_path': '/tmp/plasma'}, 'common_eval': {'_name': None, 'path': 'models/round2-BIFI-part2-checkpoint.pt', 'post_process': None, 'quiet': False, 'model_overrides': '{}', 'results_path': None}, 'distributed_training': {'_name': None, 'distributed_world_size': 1, 'distributed_num_procs': 1, 'distributed_rank': 0, 'distributed_backend': 'nccl', 'distributed_init_method': None, 'distributed_port': -1, 'device_id': 0, 'distributed_no_spawn': False, 'ddp_backend': 'pytorch_ddp', 'ddp_comm_hook': 'none', 'bucket_cap_mb': 25, 'fix_batches_to_gpus': False, 'find_unused_parameters': False, 'gradient_as_bucket_view': False, 'fast_stat_sync': False, 'heartbeat_timeout': -1, 'broadcast_buffers': False, 'slowmo_momentum': None, 'slowmo_base_algorithm': 'localsgd', 'localsgd_frequency': 3, 'nprocs_per_node': 1, 'pipeline_model_parallel': False, 'pipeline_balance': None, 'pipeline_devices': None, 'pipeline_chunks': 0, 'pipeline_encoder_balance': None, 'pipeline_encoder_devices': None, 'pipeline_decoder_balance': None, 'pipeline_decoder_devices': None, 'pipeline_checkpoint': 'never', 'zero_sharding': 'none', 'fp16': False, 'memory_efficient_fp16': False, 'tpu': False, 'no_reshard_after_forward': False, 'fp32_reduce_scatter': False, 'cpu_offload': False, 'use_sharded_state': False, 'not_fsdp_flatten_parameters': False}, 'dataset': {'_name': None, 'num_workers': 1, 'skip_invalid_size_inputs_valid_test': False, 'max_tokens': 7000, 'batch_size': None, 'required_batch_size_multiple': 8, 'required_seq_len_multiple': 1, 'dataset_impl': None, 'data_buffer_size': 10, 'train_subset': 'train', 'valid_subset': 'valid', 'combine_valid_subsets': None, 'ignore_unused_valid_subsets': False, 'validate_interval': 1, 'validate_interval_updates': 0, 'validate_after_updates': 0, 'fixed_validation_seed': None, 'disable_validation': False, 'max_tokens_valid': 7000, 'batch_size_valid': None, 'max_valid_steps': None, 'curriculum': 0, 'gen_subset': 'test', 'num_shards': 1, 'shard_id': 0, 'grouped_shuffling': False, 'update_epoch_batch_itr': False, 'update_ordered_indices_seed': False}, 'optimization': {'_name': None, 'max_epoch': 0, 'max_update': 0, 'stop_time_hours': 0.0, 'clip_norm': 0.0, 'sentence_avg': False, 'update_freq': [1], 'lr': [0.25], 'stop_min_lr': -1.0, 'use_bmuf': False, 'skip_remainder_batch': False}, 'checkpoint': {'_name': None, 'save_dir': 'checkpoints', 'restore_file': 'checkpoint_last.pt', 'continue_once': None, 'finetune_from_model': None, 'reset_dataloader': False, 'reset_lr_scheduler': False, 'reset_meters': False, 'reset_optimizer': False, 'optimizer_overrides': '{}', 'save_interval': 1, 'save_interval_updates': 0, 'keep_interval_updates': -1, 'keep_interval_updates_pattern': -1, 'keep_last_epochs': -1, 'keep_best_checkpoints': -1, 'no_save': False, 'no_epoch_checkpoints': False, 'no_last_checkpoints': False, 'no_save_optimizer_state': False, 'best_checkpoint_metric': 'loss', 'maximize_best_checkpoint_metric': False, 'patience': -1, 'checkpoint_suffix': '', 'checkpoint_shard_count': 1, 'load_checkpoint_on_all_dp_ranks': False, 'write_checkpoints_asynchronously': False, 'model_parallel_size': 1}, 'bmuf': {'_name': None, 'block_lr': 1.0, 'block_momentum': 0.875, 'global_sync_iter': 50, 'warmup_iterations': 500, 'use_nbm': False, 'average_sync': False, 'distributed_world_size': 1}, 'generation': {'_name': None, 'beam': 10, 'nbest': 10, 'max_len_a': 1.0, 'max_len_b': 50, 'min_len': 1, 'match_source_len': False, 'unnormalized': False, 'no_early_stop': False, 'no_beamable_mm': False, 'lenpen': 1.0, 'unkpen': 0.0, 'replace_unk': None, 'sacrebleu': False, 'score_reference': False, 'prefix_size': 0, 'no_repeat_ngram_size': 0, 'sampling': False, 'sampling_topk': -1, 'sampling_topp': -1.0, 'constraints': None, 'temperature': 1.0, 'diverse_beam_groups': -1, 'diverse_beam_strength': 0.5, 'diversity_rate': -1.0, 'print_alignment': None, 'print_step': False, 'lm_path': None, 'lm_weight': 0.0, 'iter_decode_eos_penalty': 0.0, 'iter_decode_max_iter': 10, 'iter_decode_force_max_iter': False, 'iter_decode_with_beam': 1, 'iter_decode_with_external_reranker': False, 'retain_iter_history': False, 'retain_dropout': False, 'retain_dropout_modules': None, 'decoding_format': None, 'no_seed_provided': False, 'eos_token': None}, 'eval_lm': {'_name': None, 'output_word_probs': False, 'output_word_stats': False, 'context_window': 0, 'softmax_batch': 9223372036854775807}, 'interactive': {'_name': None, 'buffer_size': 0, 'input': '-'}, 'model': {'_name': 'wav2vec2', 'extractor_mode': 'default', 'encoder_layers': 12, 'encoder_embed_dim': 768, 'encoder_ffn_embed_dim': 3072, 'encoder_attention_heads': 12, 'activation_fn': 'gelu', 'layer_type': 'transformer', 'dropout': 0.1, 'attention_dropout': 0.1, 'activation_dropout': 0.0, 'encoder_layerdrop': 0.0, 'dropout_input': 0.0, 'dropout_features': 0.0, 'final_dim': 0, 'layer_norm_first': False, 'conv_feature_layers': '[(512, 10, 5)] + [(512, 3, 2)] * 4 + [(512,2,2)] + [(512,2,2)]', 'conv_bias': False, 'logit_temp': 0.1, 'quantize_targets': False, 'quantize_input': False, 'same_quantizer': False, 'target_glu': False, 'feature_grad_mult': 1.0, 'quantizer_depth': 1, 'quantizer_factor': 3, 'latent_vars': 320, 'latent_groups': 2, 'latent_dim': 0, 'mask_length': 10, 'mask_prob': 0.65, 'mask_selection': 'static', 'mask_other': 0.0, 'no_mask_overlap': False, 'mask_min_space': 1, 'require_same_masks': True, 'mask_dropout': 0.0, 'mask_channel_length': 10, 'mask_channel_prob': 0.0, 'mask_channel_before': False, 'mask_channel_selection': 'static', 'mask_channel_other': 0.0, 'no_mask_channel_overlap': False, 'mask_channel_min_space': 1, 'num_negatives': 100, 'negatives_from_everywhere': False, 'cross_sample_negatives': 0, 'codebook_negatives': 0, 'conv_pos': 128, 'conv_pos_groups': 16, 'pos_conv_depth': 1, 'latent_temp': [2.0, 0.5, 0.999995], 'max_positions': 100000, 'checkpoint_activations': False, 'required_seq_len_multiple': 1, 'crop_seq_to_multiple': 1, 'depthwise_conv_kernel_size': 31, 'attn_type': '', 'pos_enc_type': 'abs', 'fp16': False}, 'task': {'_name': 'translation', 'data': 'data-apply/preprocess', 'source_lang': 'bad', 'target_lang': 'good', 'load_alignments': False, 'left_pad_source': True, 'left_pad_target': False, 'max_source_positions': 1024, 'max_target_positions': 1024, 'upsample_primary': -1, 'truncate_source': False, 'num_batch_buckets': 0, 'train_subset': 'train', 'dataset_impl': None, 'required_seq_len_multiple': 1, 'eval_bleu': False, 'eval_bleu_args': '{}', 'eval_bleu_detok': 'space', 'eval_bleu_detok_args': '{}', 'eval_tokenized_bleu': False, 'eval_bleu_remove_bpe': None, 'eval_bleu_print_samples': False}, 'criterion': {'_name': 'cross_entropy', 'sentence_avg': True}, 'optimizer': None, 'lr_scheduler': {'_name': 'fixed', 'force_anneal': None, 'lr_shrink': 0.1, 'warmup_updates': 0, 'lr': [0.25]}, 'scoring': {'_name': 'bleu', 'pad': 1, 'eos': 2, 'unk': 3}, 'bpe': None, 'tokenizer': None, 'ema': {'_name': None, 'store_ema': False, 'ema_decay': 0.9999, 'ema_start_update': 0, 'ema_seed_model': None, 'ema_update_freq': 1, 'ema_fp32': False}}\n",
      "2024-07-21 09:56:41 | INFO | fairseq.tasks.translation | [bad] dictionary: 10000 types\n",
      "2024-07-21 09:56:41 | INFO | fairseq.tasks.translation | [good] dictionary: 10000 types\n",
      "2024-07-21 09:56:41 | INFO | fairseq_cli.generate | loading model(s) from models/round2-BIFI-part2-checkpoint.pt\n",
      "2024-07-21 09:56:42 | INFO | fairseq.data.data_utils | loaded 1 examples from: data-apply/preprocess/test.bad-good.bad\n",
      "2024-07-21 09:56:42 | INFO | fairseq.tasks.translation | data-apply/preprocess test bad-good 1 examples\n",
      "2024-07-21 09:56:43 | INFO | fairseq.tasks.text_to_speech | Please install tensorboardX: pip install tensorboardX\n",
      "2024-07-21 09:56:45 | INFO | fairseq_cli.generate | NOTE: hypothesis and token scores are output in base 2\n",
      "2024-07-21 09:56:45 | INFO | fairseq_cli.generate | Translated 1 sentences (94 tokens) in 1.0s (1.00 sentences/s, 94.38 tokens/s)\n"
     ]
    }
   ],
   "execution_count": 84
  },
  {
   "metadata": {},
   "cell_type": "markdown",
   "source": "## Parse prediction"
  },
  {
   "metadata": {
    "ExecuteTime": {
     "end_time": "2024-07-21T03:25:44.300767Z",
     "start_time": "2024-07-21T03:25:44.235931Z"
    }
   },
   "cell_type": "code",
   "source": [
    "preds = parse_fairseq_preds(str(predict_path))\n",
    "preds[0]"
   ],
   "outputs": [
    {
     "data": {
      "text/plain": [
       "{'src': 'def <unk> ( file_path , chunk_size = 1024 ) : <NEWLINE> <INDENT> file_contents = <STRING> <NEWLINE> with open ( file_path , <STRING> , encoding = <STRING> ) as file : <NEWLINE> <INDENT> while True : <NEWLINE> <INDENT> chunk = file . read ( chunk_size ) <NEWLINE> if not chunk : <NEWLINE> <INDENT> break <NEWLINE> <DEDENT> file_contents += chunk <NEWLINE> <DEDENT> <DEDENT> return file_contents <NEWLINE> <unk> <unk> <unk> <unk> <DEDENT> file_path = <STRING> <unk> <NEWLINE> text = <unk> ( file_path ) <NEWLINE> print ( text ) <NEWLINE> <unk> <unk> <unk> <unk>',\n",
       " 'pred': ['def <unk> ( file_path , chunk_size = 1024 ) : <NEWLINE> <INDENT> file_contents = <STRING> <NEWLINE> with open ( file_path , <STRING> , encoding = <STRING> ) as file : <NEWLINE> <INDENT> while True : <NEWLINE> <INDENT> chunk = file . read ( chunk_size ) <NEWLINE> if not chunk : <NEWLINE> <INDENT> break <NEWLINE> <DEDENT> file_contents += chunk <NEWLINE> <DEDENT> <DEDENT> return file_contents <NEWLINE> <unk> , <unk> , <unk> <NEWLINE> <DEDENT> file_path = <STRING> <NEWLINE> <unk> = <unk> ( file_path ) <NEWLINE> print ( text ) <NEWLINE> <unk> , <unk> , <unk> <NEWLINE>',\n",
       "  'def <unk> ( file_path , chunk_size = 1024 ) : <NEWLINE> <INDENT> file_contents = <STRING> <NEWLINE> with open ( file_path , <STRING> , encoding = <STRING> ) as file : <NEWLINE> <INDENT> while True : <NEWLINE> <INDENT> chunk = file . read ( chunk_size ) <NEWLINE> if not chunk : <NEWLINE> <INDENT> break <NEWLINE> <DEDENT> file_contents += chunk <NEWLINE> <DEDENT> <DEDENT> return file_contents <NEWLINE> <unk> , <unk> , <unk> <NEWLINE> <DEDENT> file_path = <STRING> <NEWLINE> <unk> = <unk> ( file_path ) <NEWLINE> print ( text ) <NEWLINE> <unk> ( <unk> , <unk> ) <NEWLINE>',\n",
       "  'def <unk> ( file_path , chunk_size = 1024 ) : <NEWLINE> <INDENT> file_contents = <STRING> <NEWLINE> with open ( file_path , <STRING> , encoding = <STRING> ) as file : <NEWLINE> <INDENT> while True : <NEWLINE> <INDENT> chunk = file . read ( chunk_size ) <NEWLINE> if not chunk : <NEWLINE> <INDENT> break <NEWLINE> <DEDENT> file_contents += chunk <NEWLINE> <DEDENT> <DEDENT> return file_contents <NEWLINE> <unk> , <unk> , <unk> <NEWLINE> <DEDENT> file_path = <STRING> , <unk> <NEWLINE> text = <unk> ( file_path ) <NEWLINE> print ( text ) <NEWLINE> <unk> , <unk> , <unk> <NEWLINE>',\n",
       "  'def <unk> ( file_path , chunk_size = 1024 ) : <NEWLINE> <INDENT> file_contents = <STRING> <NEWLINE> with open ( file_path , <STRING> , encoding = <STRING> ) as file : <NEWLINE> <INDENT> while True : <NEWLINE> <INDENT> chunk = file . read ( chunk_size ) <NEWLINE> if not chunk : <NEWLINE> <INDENT> break <NEWLINE> <DEDENT> file_contents += chunk <NEWLINE> <DEDENT> <DEDENT> return file_contents <NEWLINE> <unk> , <unk> , <unk> <NEWLINE> <DEDENT> file_path = <STRING> , <unk> <NEWLINE> text = <unk> ( file_path ) <NEWLINE> print ( text ) <NEWLINE> <unk> , <unk> <NEWLINE>',\n",
       "  'def <unk> ( file_path , chunk_size = 1024 ) : <NEWLINE> <INDENT> file_contents = <STRING> <NEWLINE> with open ( file_path , <STRING> , encoding = <STRING> ) as file : <NEWLINE> <INDENT> while True : <NEWLINE> <INDENT> chunk = file . read ( chunk_size ) <NEWLINE> if not chunk : <NEWLINE> <INDENT> break <NEWLINE> <DEDENT> file_contents += chunk <NEWLINE> <DEDENT> <DEDENT> return file_contents <NEWLINE> return <unk> , <unk> , <unk> <NEWLINE> <DEDENT> file_path = <STRING> <NEWLINE> text = <unk> ( file_path ) <NEWLINE> print ( text ) <NEWLINE> <unk> , <unk> , <unk> <NEWLINE>',\n",
       "  'def <unk> ( file_path , chunk_size = 1024 ) : <NEWLINE> <INDENT> file_contents = <STRING> <NEWLINE> with open ( file_path , <STRING> , encoding = <STRING> ) as file : <NEWLINE> <INDENT> while True : <NEWLINE> <INDENT> chunk = file . read ( chunk_size ) <NEWLINE> if not chunk : <NEWLINE> <INDENT> break <NEWLINE> <DEDENT> file_contents += chunk <NEWLINE> <DEDENT> <DEDENT> return file_contents <NEWLINE> <unk> ( <unk> , <unk> ) <NEWLINE> <DEDENT> file_path = <STRING> <NEWLINE> text = <unk> ( file_path ) <NEWLINE> print ( text ) <NEWLINE> <unk> , <unk> , <unk> <NEWLINE>',\n",
       "  'def <unk> ( file_path , chunk_size = 1024 ) : <NEWLINE> <INDENT> file_contents = <STRING> <NEWLINE> with open ( file_path , <STRING> , encoding = <STRING> ) as file : <NEWLINE> <INDENT> while True : <NEWLINE> <INDENT> chunk = file . read ( chunk_size ) <NEWLINE> if not chunk : <NEWLINE> <INDENT> break <NEWLINE> <DEDENT> file_contents += chunk <NEWLINE> <DEDENT> <DEDENT> return file_contents <NEWLINE> <unk> , <unk> , <unk> <NEWLINE> <DEDENT> file_path = <STRING> , <unk> <NEWLINE> text = <unk> ( file_path ) <NEWLINE> print ( text ) <NEWLINE> <unk> ( <unk> ) <NEWLINE>',\n",
       "  'def <unk> ( file_path , chunk_size = 1024 ) : <NEWLINE> <INDENT> file_contents = <STRING> <NEWLINE> with open ( file_path , <STRING> , encoding = <STRING> ) as file : <NEWLINE> <INDENT> while True : <NEWLINE> <INDENT> chunk = file . read ( chunk_size ) <NEWLINE> if not chunk : <NEWLINE> <INDENT> break <NEWLINE> <DEDENT> file_contents += chunk <NEWLINE> <DEDENT> <DEDENT> return file_contents <NEWLINE> <unk> , <unk> , <unk> <NEWLINE> <DEDENT> file_path = <STRING> <NEWLINE> <unk> = <unk> ( file_path ) <NEWLINE> print ( text ) <NEWLINE> <unk> , <unk> <NEWLINE> <unk> , <unk> <NEWLINE>',\n",
       "  'def <unk> ( file_path , chunk_size = 1024 ) : <NEWLINE> <INDENT> file_contents = <STRING> <NEWLINE> with open ( file_path , <STRING> , encoding = <STRING> ) as file : <NEWLINE> <INDENT> while True : <NEWLINE> <INDENT> chunk = file . read ( chunk_size ) <NEWLINE> if not chunk : <NEWLINE> <INDENT> break <NEWLINE> <DEDENT> file_contents += chunk <NEWLINE> <DEDENT> <DEDENT> return file_contents <NEWLINE> return <unk> , <unk> , <unk> <NEWLINE> <DEDENT> file_path = <STRING> , <unk> <NEWLINE> text = <unk> ( file_path ) <NEWLINE> print ( text ) <NEWLINE> <unk> , <unk> <NEWLINE>',\n",
       "  'def <unk> ( file_path , chunk_size = 1024 ) : <NEWLINE> <INDENT> file_contents = <STRING> <NEWLINE> with open ( file_path , <STRING> , encoding = <STRING> ) as file : <NEWLINE> <INDENT> while True : <NEWLINE> <INDENT> chunk = file . read ( chunk_size ) <NEWLINE> if not chunk : <NEWLINE> <INDENT> break <NEWLINE> <DEDENT> file_contents += chunk <NEWLINE> <DEDENT> <DEDENT> return file_contents <NEWLINE> <unk> , <unk> , <unk> <NEWLINE> <DEDENT> file_path = <STRING> <NEWLINE> <unk> = <unk> ( file_path ) <NEWLINE> print ( text ) <NEWLINE> <unk> , <unk> , <unk> <NEWLINE> <DEDENT>']}"
      ]
     },
     "execution_count": 88,
     "metadata": {},
     "output_type": "execute_result"
    }
   ],
   "execution_count": 88
  },
  {
   "metadata": {},
   "cell_type": "markdown",
   "source": [
    "# Draft\n",
    "\n",
    "fairseq-preprocess --source-lang bad --destdir data-apply/preprocess             --joined-dictionary --workers 50 --target-lang good --testpref data-apply/token-input --srcdict data/token_vocab.txt --workers 10 --only-source"
   ]
  },
  {
   "metadata": {
    "ExecuteTime": {
     "end_time": "2024-07-20T03:45:25.151517Z",
     "start_time": "2024-07-20T03:45:25.123489Z"
    }
   },
   "cell_type": "code",
   "source": [
    "with open(os.path.join('data-apply', 'code-input.txt'), 'r') as file:\n",
    "    code_content = file.read()\n",
    "\n",
    "code_input = tokenize_python_code(code_content)\n",
    "print(code_input[0])"
   ],
   "outputs": [
    {
     "name": "stdout",
     "output_type": "stream",
     "text": [
      "['def', 'read_file_to_string', '(', 'file_path', ',', 'chunk_size', '=', '1024', ')', ':', '<NEWLINE>', '<INDENT>', 'file_contents', '=', '<STRING>', '<NEWLINE>', 'with', 'open', '(', 'file_path', ',', '<STRING>', ',', 'encoding', '=', '<STRING>', ')', 'as', 'file', ':', '<NEWLINE>', '<INDENT>', 'while', 'True', ':', '<NEWLINE>', '<INDENT>', 'chunk', '=', 'file', '.', 'read', '(', 'chunk_size', ')', '<NEWLINE>', 'if', 'not', 'chunk', ':', '<NEWLINE>', '<INDENT>', 'break', '<NEWLINE>', '<DEDENT>', 'file_contents', '+=', 'chunk', '<NEWLINE>', '<DEDENT>', '<DEDENT>', 'return', 'file_contents', '<NEWLINE>', '<NL>', '<NL>', '<COMMENT>', '<NL>', '<DEDENT>', 'file_path', '=', '<STRING>', '<COMMENT>', '<NEWLINE>', 'text', '=', 'read_file_to_string', '(', 'file_path', ')', '<NEWLINE>', 'print', '(', 'text', ')', '<NEWLINE>', '<NL>', '<NL>', '<COMMENT>', '<NL>']\n"
     ]
    }
   ],
   "execution_count": 24
  },
  {
   "metadata": {
    "ExecuteTime": {
     "end_time": "2024-07-20T03:45:27.272872Z",
     "start_time": "2024-07-20T03:45:27.252386Z"
    }
   },
   "cell_type": "code",
   "source": "code_output = code_toks_to_code_string(' '.join(code_input[0]), code_input[1])",
   "outputs": [],
   "execution_count": 25
  },
  {
   "metadata": {
    "ExecuteTime": {
     "end_time": "2024-07-20T03:46:22.675840Z",
     "start_time": "2024-07-20T03:46:22.656540Z"
    }
   },
   "cell_type": "code",
   "source": [
    "with open(os.path.join('data-apply', 'code-output.txt'), 'w') as file:  # Open in write mode ('w')\n",
    "    file.write(code_output)\n"
   ],
   "outputs": [],
   "execution_count": 27
  },
  {
   "metadata": {},
   "cell_type": "code",
   "outputs": [],
   "execution_count": null,
   "source": ""
  }
 ],
 "metadata": {
  "colab": {
   "provenance": []
  },
  "kernelspec": {
   "display_name": "Python 3 (ipykernel)",
   "name": "python3",
   "language": "python"
  },
  "language_info": {
   "name": "python"
  }
 },
 "nbformat": 4,
 "nbformat_minor": 0
}
